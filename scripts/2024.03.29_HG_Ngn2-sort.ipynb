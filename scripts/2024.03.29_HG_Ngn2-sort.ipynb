{
 "cells": [
  {
   "attachments": {},
   "cell_type": "markdown",
   "metadata": {},
   "source": [
    "# Analysis of Ngn2x3HA-P2A-mRuby2 vs. CellTrace-Violet on 4 dpi\n",
    "\n",
    "Notes:\n",
    "\n",
    "1. Replated at 4 dpi at 10k/96-well\n",
    "2. These were CTV stained at 1 dpi, 1:1000 (1 µM) for 30 min at 37C, then washed with DMEM/FBS \n",
    "3. All are using uORFwx1"
   ]
  },
  {
   "cell_type": "code",
   "execution_count": 1,
   "metadata": {},
   "outputs": [],
   "source": [
    "import pandas as pd\n",
    "import numpy as np\n",
    "from matplotlib import pyplot as plt\n",
    "from matplotlib import ticker as mticker\n",
    "import seaborn as sns\n",
    "import scipy\n",
    "from statannotations.Annotator import Annotator\n",
    "import rushd as rd\n",
    "import re\n",
    "from pathlib import Path\n",
    "import yaml\n",
    "\n",
    "# Required descriptors for annotate\n",
    "from scipy.stats import ttest_ind\n",
    "from statannotations.stats.StatTest import StatTest"
   ]
  },
  {
   "attachments": {},
   "cell_type": "markdown",
   "metadata": {},
   "source": [
    "# 4 dpi data\n",
    "## Load data"
   ]
  },
  {
   "cell_type": "code",
   "execution_count": 2,
   "metadata": {},
   "outputs": [
    {
     "name": "stdout",
     "output_type": "stream",
     "text": [
      "0 2024.03.19_Ngn2sort_1\n",
      "1 2024.04.18_Ngn2sort_2\n",
      "2 2024.09.03_Ngn2sort_4\n"
     ]
    }
   ],
   "source": [
    "# Directories\n",
    "base_datadir = rd.datadir/'2024.04.18_Ngn2-CTV-sort_1-4'\n",
    "figpath = '../figures/fig6/'\n",
    "\n",
    "dir_list = ['2024.03.19_Ngn2sort_1', '2024.04.18_Ngn2sort_2', '2024.09.03_Ngn2sort_4']\n",
    "\n",
    "# List of ctrls\n",
    "ctrl_list = ['Ctrl-neg', 'Ctrl-puro', 'Ctrl-mRuby2', 'Ctrl-eGFP']\n",
    "\n",
    "# Store all data in list of dfs which will be converted to df at end\n",
    "data_4dpi_P3 = list()\n",
    "data_4dpi_mRuby2 = list()\n",
    "\n",
    "# For P3\n",
    "for j, dir in enumerate(dir_list):\n",
    "    # P3 - get all CSVs\n",
    "    datadir_P3 = base_datadir/dir/'export_P3'\n",
    "    files = Path(datadir_P3).glob('*.csv') \n",
    "\n",
    "    for i, file in enumerate(files):\n",
    "\n",
    "        # Extract metadata from csv title\n",
    "        match = re.search(\n",
    "            'export_Specimen_001_(?P<cond>.+)_P3.csv', file.name)\n",
    "\n",
    "        # Load as df and note header is on 0th row\n",
    "        df = pd.read_csv(file, header=0)\n",
    "        if dir == '2024.04.18_Ngn2sort_2':\n",
    "            df.rename(columns={'Pacific Blue-A': 'BV 421-A'}, inplace=True)\n",
    "\n",
    "        # Update columns in df with metadata from file name\n",
    "        df['cond'] = match.group('cond')\n",
    "        df['rep'] = j\n",
    "        data_4dpi_P3.append(df)\n",
    "\n",
    "# mRuby2 - get all CSVs\n",
    "# For P3\n",
    "for j, dir in enumerate(dir_list):\n",
    "    print(j, dir)\n",
    "    # P3 - get all CSVs\n",
    "    datadir_mRuby2 = base_datadir/dir/'export_mRuby2+'\n",
    "    files = Path(datadir_mRuby2).glob('*.csv') \n",
    "    for i, file in enumerate(files):\n",
    "\n",
    "        # Extract metadata from csv title\n",
    "        match = re.search(\n",
    "            'export_Specimen_001_(?P<cond>.+)_(?P<subset>.+).csv', file.name)\n",
    "\n",
    "        # Load as df and note header is on 0th row\n",
    "        df = pd.read_csv(file, header=0)\n",
    "        if dir == '2024.04.18_Ngn2sort_2':\n",
    "            df.rename(columns={'Pacific Blue-A': 'BV 421-A'}, inplace=True)\n",
    "\n",
    "        # Update columns in df with metadata from file name\n",
    "        df['cond'] = match.group('cond')\n",
    "        df['rep'] = j\n",
    "        data_4dpi_mRuby2.append(df)\n",
    "\n",
    "# Convert list of dfs into single df\n",
    "data_4dpi_P3 = pd.concat(data_4dpi_P3, ignore_index=True)\n",
    "data_4dpi_mRuby2 = pd.concat(data_4dpi_mRuby2, ignore_index=True)\n",
    "\n",
    "# Remove negative data\n",
    "data_4dpi_P3 = data_4dpi_P3.loc[\n",
    "    (data_4dpi_P3['PE-Texas Red-A'] > 0) &\n",
    "    (data_4dpi_P3['FITC-A'] > 0) & \n",
    "    (data_4dpi_P3['BV 421-A'] > 0)\n",
    "]\n",
    "data_4dpi_mRuby2 = data_4dpi_mRuby2.loc[\n",
    "    (data_4dpi_mRuby2['PE-Texas Red-A'] > 0) &\n",
    "    (data_4dpi_mRuby2['FITC-A'] > 0) & \n",
    "    (data_4dpi_mRuby2['BV 421-A'] > 0)\n",
    "]\n",
    "\n",
    "# Separate out ctrl and sample data for mRuby2+\n",
    "data_4dpi_mRuby2_ctrl = data_4dpi_mRuby2[ data_4dpi_mRuby2['cond'].isin(ctrl_list) ]\n",
    "data_4dpi_mRuby2 = data_4dpi_mRuby2[ data_4dpi_mRuby2['cond'] == 'main' ]"
   ]
  },
  {
   "attachments": {},
   "cell_type": "markdown",
   "metadata": {},
   "source": [
    "## Categorize cells"
   ]
  },
  {
   "cell_type": "markdown",
   "metadata": {},
   "source": [
    "## Proliferation using CellTrace-Violet (BV 421 or BV421)"
   ]
  },
  {
   "cell_type": "code",
   "execution_count": 3,
   "metadata": {},
   "outputs": [],
   "source": [
    "# Get CTV-low threshold for each rep s.t.\n",
    "# CTV_low_thresh = 20% dimmest in ctrl\n",
    "rep_list = data_4dpi_mRuby2.rep.unique()\n",
    "CTV_low_thresh_list = np.zeros(np.shape(rep_list))\n",
    "for (i, rep) in enumerate(rep_list):\n",
    "    CTV_low_thresh_list[i] = np.percentile(\n",
    "        data_4dpi_P3.loc[(data_4dpi_P3['cond'] == 'Ctrl-puro') &\n",
    "            (data_4dpi_P3['rep'] == rep)\n",
    "        ]['BV 421-A'], 20)\n",
    "\n",
    "# Categorize based on CTV for each replicate\n",
    "data_4dpi_mRuby2['CTV_cat'] = 'non-CTV-low'\n",
    "for (i, rep) in enumerate(rep_list):\n",
    "    data_4dpi_mRuby2.loc[\n",
    "        (data_4dpi_mRuby2['rep'] == rep_list[i]) &\n",
    "        (data_4dpi_mRuby2['BV 421-A'] < CTV_low_thresh_list[i]),\n",
    "        'CTV_cat'] = 'CTV-low'"
   ]
  },
  {
   "cell_type": "code",
   "execution_count": 4,
   "metadata": {},
   "outputs": [
    {
     "data": {
      "image/png": "[encoded data removed]",
      "text/plain": [
       "<Figure size 216x144 with 1 Axes>"
      ]
     },
     "metadata": {
      "needs_background": "light"
     },
     "output_type": "display_data"
    }
   ],
   "source": [
    "fig, ax = plt.subplots(1, 1, figsize=(3, 2))\n",
    "\n",
    "# Plot CTV\n",
    "x = 'BV 421-A'\n",
    "rep = 1\n",
    "\n",
    "sns.kdeplot(data=data_4dpi_mRuby2.loc[(data_4dpi_mRuby2['cond'] == 'main') & (data_4dpi_mRuby2['rep'] == rep)],\n",
    "    ax=ax, x=x,\n",
    "    common_norm=False, log_scale=(True, False),\n",
    "    fill=True)\n",
    "\n",
    "# Plot CTV control\n",
    "sns.kdeplot(data=data_4dpi_P3[(data_4dpi_P3['cond'] == 'Ctrl-puro') & (data_4dpi_P3['rep'] == rep)], x=x, common_norm=False,\n",
    "            ax=ax, log_scale=(True, False), color='blue', fill=False, linestyle='--')\n",
    "ax.annotate('Ctrl\\npuro', (0.9, 0.5), color='blue' , xycoords='axes fraction', ha='center')\n",
    "\n",
    "# Plot neg ctrl\n",
    "sns.kdeplot(data=data_4dpi_P3[(data_4dpi_P3['cond'] == 'Ctrl-neg') & ((data_4dpi_P3['rep'] == rep))], x=x, common_norm=False,\n",
    "            ax=ax, log_scale=(True, False), color='grey', fill=False, linestyle='--')\n",
    "ax.annotate('Neg', (0.1, 0.5), color='grey', xycoords='axes fraction', ha='center')\n",
    "\n",
    "# Plot threshold\n",
    "i = 0\n",
    "ax.axvline(CTV_low_thresh_list[i], 0, 1, color='black')\n",
    "\n",
    "# Title\n",
    "plt.title('HG, 4 dpi')\n",
    "ax.set_xlabel('CellTrace™ Violet')\n",
    "# Adjust limits\n",
    "CTV_lim = (40, 1*10**5)\n",
    "for sub_ax in plt.gcf().get_axes():\n",
    "    sub_ax.set_xlim(CTV_lim)"
   ]
  },
  {
   "cell_type": "markdown",
   "metadata": {},
   "source": [
    "## Ngn2x3HA using mRuby2 (PE-Texas Red)"
   ]
  },
  {
   "cell_type": "code",
   "execution_count": 5,
   "metadata": {},
   "outputs": [
    {
     "data": {
      "text/plain": [
       "Text(0.5, 0, 'mRuby2')"
      ]
     },
     "execution_count": 5,
     "metadata": {},
     "output_type": "execute_result"
    },
    {
     "data": {
      "image/png": "[encoded data removed]",
      "text/plain": [
       "<Figure size 216x144 with 1 Axes>"
      ]
     },
     "metadata": {
      "needs_background": "light"
     },
     "output_type": "display_data"
    }
   ],
   "source": [
    "# General plotting params\n",
    "x = 'PE-Texas Red-A'\n",
    "\n",
    "# Plot\n",
    "fig, ax = plt.subplots(1, 1, figsize=(3, 2))\n",
    "sns.kdeplot(data=data_4dpi_mRuby2,\n",
    "    ax=ax, x=x, \n",
    "    common_norm=False, log_scale=(True, False),\n",
    "    fill=True)\n",
    "\n",
    "# Plot neg ctrl\n",
    "sns.kdeplot(data=data_4dpi_P3[(data_4dpi_P3['cond'] == 'Ctrl-neg')], x=x, common_norm=False,\n",
    "            ax=ax, log_scale=(True, False), color='grey', fill=False, linestyle='--')\n",
    "ax.annotate('Neg', (0.27, 0.9), color='grey', xycoords='axes fraction', ha='center')\n",
    "\n",
    "# Plot mRuby2 gating levels for hyperP cells\n",
    "mRuby2 = data_4dpi_mRuby2['PE-Texas Red-A']\n",
    "# Mark mRuby2 quartiles of hyperP cells\n",
    "mRuby2_thresh_list = [np.percentile(mRuby2, 25), np.percentile(mRuby2, 50), np.percentile(mRuby2, 75)]\n",
    "for mRuby2_thresh in mRuby2_thresh_list:\n",
    "    ax.axvline(mRuby2_thresh, 0, 1, color='black')\n",
    "\n",
    "# Title\n",
    "plt.title('4 dpi')\n",
    "# Adjust limits\n",
    "mRuby2_lim = (10, 1*10**5)\n",
    "for sub_ax in plt.gcf().get_axes():\n",
    "    sub_ax.set_xlim(mRuby2_lim)\n",
    "\n",
    "# Format\n",
    "ax.xaxis.set_label_text('mRuby2')"
   ]
  },
  {
   "cell_type": "code",
   "execution_count": 6,
   "metadata": {},
   "outputs": [],
   "source": [
    "# Get mRuby2 threshold for each rep for each quartile (25%, 50%, 75%)\n",
    "rep_list = data_4dpi_mRuby2.rep.unique()\n",
    "mRuby2_thresh_list = np.zeros((len(rep_list), 3))\n",
    "for (i, rep) in enumerate(rep_list):\n",
    "\n",
    "    # Mark mRuby2 quartiles\n",
    "    mRuby2 = data_4dpi_mRuby2.loc[(data_4dpi_mRuby2.rep == rep), 'PE-Texas Red-A']\n",
    "    mRuby2_thresh_list[i, :] = [np.percentile(mRuby2, 25), np.percentile(mRuby2, 50), np.percentile(mRuby2, 75)]"
   ]
  },
  {
   "cell_type": "code",
   "execution_count": 7,
   "metadata": {},
   "outputs": [],
   "source": [
    "# Categorize based on mRuby2 for each replicate\n",
    "data_4dpi_mRuby2.loc[:, 'mRuby2_cat'] = 'None'\n",
    "for (i, rep) in enumerate(rep_list):\n",
    "    # Low\n",
    "    data_4dpi_mRuby2.loc[\n",
    "        (data_4dpi_mRuby2['rep'] == rep_list[i]) &\n",
    "        (data_4dpi_mRuby2['PE-Texas Red-A'] < mRuby2_thresh_list[i, 0]),\n",
    "        'mRuby2_cat'] = 'mRuby2-low'\n",
    "    # Med\n",
    "    data_4dpi_mRuby2.loc[\n",
    "        (data_4dpi_mRuby2['rep'] == rep_list[i]) &\n",
    "        (data_4dpi_mRuby2['PE-Texas Red-A'] > mRuby2_thresh_list[i, 1]),\n",
    "        'mRuby2_cat'] = 'mRuby2-med'\n",
    "    # High\n",
    "    data_4dpi_mRuby2.loc[\n",
    "        (data_4dpi_mRuby2['rep'] == rep_list[i]) &\n",
    "        (data_4dpi_mRuby2['PE-Texas Red-A'] > mRuby2_thresh_list[i, 2]),\n",
    "        'mRuby2_cat'] = 'mRuby2-high'\n",
    "    \n",
    "# Get total counts and percent of eGFP-H+\n",
    "group = ['cond', 'rep']\n",
    "count_df = data_4dpi_mRuby2.groupby([*group, 'CTV_cat', 'mRuby2_cat'])[\n",
    "    'FSC-A'].count().rename('count')\n",
    "\n",
    "percent_df_4dpi = (count_df*100/count_df.groupby([*group]).transform('sum')).dropna().reset_index(name='percent')"
   ]
  },
  {
   "cell_type": "code",
   "execution_count": 10,
   "metadata": {},
   "outputs": [
    {
     "data": {
      "image/png": "[encoded data removed]",
      "text/plain": [
       "<Figure size 216x216 with 3 Axes>"
      ]
     },
     "metadata": {
      "needs_background": "light"
     },
     "output_type": "display_data"
    }
   ],
   "source": [
    "palette = {'CTV-low': '#8b0288',\n",
    "           'non-CTV-low': 'gray'}\n",
    "\n",
    "# What to plot\n",
    "x = 'BV 421-A'\n",
    "y = 'PE-Texas Red-A'\n",
    "rep = 1\n",
    "mRuby2_thresh =  mRuby2_thresh_list[rep, :] \n",
    "df = data_4dpi_mRuby2[data_4dpi_mRuby2.rep == rep]\n",
    "\n",
    "# definitions for the axes\n",
    "left, width = 0.1, 0.65\n",
    "bottom, height = 0.1, 0.65\n",
    "spacing = 0.005\n",
    "\n",
    "rect_scatter = [left, bottom, width, height]\n",
    "rect_histx = [left, bottom + height + spacing, width, 0.2]\n",
    "rect_histy = [left + width + spacing, bottom, 0.2, height]\n",
    "\n",
    "# Set up figure\n",
    "fig = plt.figure(figsize=(3, 3))\n",
    "\n",
    "ax_scatter = plt.axes(rect_scatter)\n",
    "ax_scatter.tick_params(direction='in', top=True, right=True)\n",
    "\n",
    "ax_histx = plt.axes(rect_histx)\n",
    "ax_histy = plt.axes(rect_histy)\n",
    "ax_histx.tick_params(direction='in', labelbottom=False)\n",
    "ax_histy.tick_params(direction='in', labelleft=False)\n",
    "ax_histx.set_axis_off()\n",
    "ax_histy.set_axis_off()\n",
    "\n",
    "# Set limits\n",
    "CTV_lim = (10, 3*1e5)\n",
    "mRuby2_lim = (50, 3*1e5)\n",
    "xlim = CTV_lim\n",
    "ylim = mRuby2_lim\n",
    "ax_scatter.set_xlim(xlim)\n",
    "ax_scatter.set_ylim(ylim)\n",
    "ax_histx.set_xlim(xlim)\n",
    "ax_histy.set_ylim(ylim)\n",
    "ax_scatter.set_yscale('log')\n",
    "ax_scatter.set_xscale('log')\n",
    "\n",
    "# Plot CTV-low\n",
    "CTV_cat = 'CTV-low'\n",
    "sns.scatterplot(ax=ax_scatter, data=df[df.CTV_cat == CTV_cat],\n",
    "    x=x, y=y,\n",
    "    color=palette[CTV_cat], alpha=0.2, legend=False)\n",
    "\n",
    "CTV_cat = 'non-CTV-low'\n",
    "sns.scatterplot(ax=ax_scatter, data=df[df.CTV_cat == CTV_cat],\n",
    "    x=x, y=y,\n",
    "    color=palette[CTV_cat], alpha=0.2, legend=False)\n",
    "\n",
    "# Plot histograms\n",
    "sns.kdeplot(ax=ax_histx, data=df, x=x, alpha=0.1,\n",
    "    log_scale=True, fill=True, common_norm=False, legend=False, color=palette[CTV_cat])\n",
    "sns.kdeplot(ax=ax_histy, data=df, y=y, alpha=0.1,\n",
    "    log_scale=True, fill=True, common_norm=False, legend=True, color=palette[CTV_cat])\n",
    "\n",
    "# Add in lines\n",
    "ax_scatter.axvline(CTV_low_thresh_list[rep], color='black', linestyle='dashed', linewidth=1)\n",
    "ax_scatter.axhline(mRuby2_thresh[0], color='black', linestyle='dashed', linewidth=1)\n",
    "ax_scatter.axhline(mRuby2_thresh[1], color='black', linestyle='dashed', linewidth=1)\n",
    "ax_scatter.axhline(mRuby2_thresh[2], color='black', linestyle='dashed', linewidth=1)\n",
    "\n",
    "ax_histx.axvline(CTV_low_thresh_list[rep], color='black')\n",
    "ax_histy.axhline(mRuby2_thresh[0], color='black')\n",
    "ax_histy.axhline(mRuby2_thresh[1], color='black')\n",
    "ax_histy.axhline(mRuby2_thresh[2], color='black')\n",
    "\n",
    "# Relabel\n",
    "# ax_scatter.set_yticks([10, 1e3, 1e5])\n",
    "ax_scatter.minorticks_off()\n",
    "ax_scatter.set_xlabel('CellTrace™ Violet')\n",
    "ax_scatter.set_ylabel('mRuby2')\n",
    "\n",
    "plt.suptitle('4 dpi')\n",
    "# plt.savefig(figpath + '4dpi_CTV-v-mRuby2.svg', bbox_inches='tight')"
   ]
  },
  {
   "cell_type": "code",
   "execution_count": null,
   "metadata": {},
   "outputs": [
    {
     "name": "stderr",
     "output_type": "stream",
     "text": [
      "/Users/natwang/Documents/GitHub/article-prolif-TF-levels/env/lib/python3.9/site-packages/seaborn/utils.py:413: UserWarning: You have mixed positional and keyword arguments, some input may be discarded.\n",
      "  new_legend = legend_func(handles, labels, loc=loc, **props)\n"
     ]
    },
    {
     "name": "stdout",
     "output_type": "stream",
     "text": [
      "p-value annotation legend:\n",
      "      ns: p <= 1.00e+00\n",
      "       *: 1.00e-02 < p <= 5.00e-02\n",
      "      **: 1.00e-03 < p <= 1.00e-02\n",
      "     ***: 1.00e-04 < p <= 1.00e-03\n",
      "    ****: p <= 1.00e-04\n",
      "\n",
      "mRuby2-med_non-CTV-low vs. mRuby2-med_CTV-low: t-test independent samples, P_val:1.390e-01 t=-1.844e+00\n",
      "mRuby2-low_non-CTV-low vs. mRuby2-low_CTV-low: t-test independent samples, P_val:4.632e-05 t=-1.888e+01\n",
      "mRuby2-high_non-CTV-low vs. mRuby2-high_CTV-low: t-test independent samples, P_val:1.436e-02 t=4.141e+00\n"
     ]
    },
    {
     "data": {
      "image/png": "[encoded data removed]",
      "text/plain": [
       "<Figure size 288x144 with 1 Axes>"
      ]
     },
     "metadata": {
      "needs_background": "light"
     },
     "output_type": "display_data"
    }
   ],
   "source": [
    "# General plotting params\n",
    "x = 'mRuby2_cat'\n",
    "y = 'percent'\n",
    "hue = 'CTV_cat'\n",
    "units = 'rep'\n",
    "marker_list = ['o', 's', '^', 'D', 'P', 'X'] \n",
    "\n",
    "order = ['mRuby2-low', 'mRuby2-med', 'mRuby2-high']\n",
    "hue_order = ['non-CTV-low', 'CTV-low']\n",
    "\n",
    "palette = {'CTV-low': '#8b0288',\n",
    "           'non-CTV-low': 'lightgray'}\n",
    "\n",
    "fig, ax = plt.subplots(1, 1, figsize=(4, 2))\n",
    "\n",
    "# Plot bar plot\n",
    "g = sns.barplot(\n",
    "    ax=ax, data=percent_df_4dpi,\n",
    "    x=x, y=y, units=units, hue=hue,\n",
    "    order=order, hue_order=hue_order,\n",
    "    palette=palette, alpha=0.5)\n",
    "\n",
    "# Plot reps\n",
    "for (i, rep) in enumerate(percent_df_4dpi.rep.unique()):\n",
    "    sns.stripplot(ax=ax, data=percent_df_4dpi[percent_df_4dpi.rep == rep],\n",
    "        x=x, y=y, order=order,\n",
    "        dodge=True, marker=marker_list[i],\n",
    "        hue=hue, hue_order=hue_order,\n",
    "        palette={'CTV-low':'white', 'non-CTV-low':'white'}, size=7,\n",
    "        edgecolor='black', linewidth=0.4,)\n",
    "    \n",
    "\n",
    "# Format\n",
    "plt.title('4 dpi')\n",
    "ax.set_xlabel('')\n",
    "ax.yaxis.set_label_text('(%) of mRuby2+ cells')\n",
    "ax.set_yticks(np.arange(0, 31, 10))\n",
    "ax.set_xticklabels(['mRuby2\\nLow', 'mRuby2\\nMed', 'mRuby2\\nHigh'])\n",
    "\n",
    "# Adjust legend\n",
    "lmap = {'CTV-low':'HyperP', 'non-CTV-low':'non-HyperP'}\n",
    "h,l = ax.get_legend_handles_labels()\n",
    "sns.move_legend(ax, handles=h[-len(hue_order):], labels=[lmap[i] for i in l[-len(hue_order):]],\n",
    "    title='', loc='upper left', bbox_to_anchor=(1,1), frameon=False)\n",
    "\n",
    "# Formatting\n",
    "for sub_ax in plt.gcf().get_axes():\n",
    "    # Add barplot labels\n",
    "    for i in sub_ax.containers:\n",
    "        bar_labels = sub_ax.bar_label(i, fmt='%0.0f', padding=-25)\n",
    "        for label in bar_labels:\n",
    "            label.set_bbox(dict(facecolor='white', alpha=0.75, linewidth=0, pad=1))   \n",
    "\n",
    "# Pairs for stats comp\n",
    "pairs = [((mRuby2_cat, 'CTV-low'), (mRuby2_cat, 'non-CTV-low')) for mRuby2_cat in order]\n",
    "# Add in stats for iMN yield\n",
    "annot = Annotator(ax=ax,\n",
    "    data=percent_df_4dpi, pairs=pairs,\n",
    "    x=x, y=y,\n",
    "    hue=hue, order=order, hue_order=hue_order)\n",
    "annot.configure(test='t-test_ind', text_format='star', loc='inside', verbose=2)\n",
    "annot.apply_test().annotate(line_offset_to_group=0.15)\n",
    "\n",
    "# plt.savefig(figpath + '4dpi_CTV_mRuby2_percents.svg', bbox_inches='tight')"
   ]
  },
  {
   "attachments": {},
   "cell_type": "markdown",
   "metadata": {},
   "source": [
    "# 14 dpi data"
   ]
  },
  {
   "cell_type": "markdown",
   "metadata": {},
   "source": [
    "## Load data"
   ]
  },
  {
   "cell_type": "code",
   "execution_count": 12,
   "metadata": {},
   "outputs": [],
   "source": [
    "# Directories\n",
    "base_datadir = rd.datadir/'2024.03.29_HG_Ngn2-sort_14dpi_1-5'\n",
    "\n",
    "# List of data folder names\n",
    "dir_list = ['2024.03.29_HG_Ngn2-sort_14dpi_1', '2024.04.28_HG_Ngn2-sort_14dpi_2', '2024.09.13_HG_Ngn2-sort_14dpi_4']\n",
    "\n",
    "# Store all data in list of dfs which will be converted to df at end\n",
    "data_14dpi_all = list()\n",
    "\n",
    "# get all csvs for each dir\n",
    "for (j, dir_name) in enumerate(dir_list):\n",
    "\n",
    "    rep = int(dir_name[-1])\n",
    "    # Load as df and note header is on 0th row\n",
    "    df = rd.flow.load_csv_with_metadata(\n",
    "        base_datadir/dir_name/'export_singlets', base_datadir/f'well_metadata_{rep}.yaml')\n",
    "    df['rep'] = rep\n",
    "    data_14dpi_all.append(df)\n",
    "\n",
    "# Convert list of dfs into single df\n",
    "data_14dpi_all = pd.concat(data_14dpi_all, ignore_index=True)\n",
    "\n",
    "# Remove negative data\n",
    "data_14dpi_all = data_14dpi_all.loc[\n",
    "    (data_14dpi_all['FSC-A'] > 0) &\n",
    "    (data_14dpi_all['eGFP-A'] > 0) &\n",
    "    (data_14dpi_all['mRuby2-A'] > 0) &\n",
    "    (data_14dpi_all['CellTrace™ Violet-A'] > 0)\n",
    "]\n",
    "\n",
    "# List of ctrls and samples\n",
    "ctrl_list = ['Ctrl-puro', 'Ctrl-mRuby2', 'Ctrl-eGFP', 'Ctrl-neg']\n",
    "cond_list = ['mRuby2-low, nonHyperP', 'mRuby2-med, nonHyperP',  'mRuby2-high, nonHyperP','mRuby2-low, HyperP','mRuby2-med, HyperP', 'mRuby2-high, HyperP', 'bulk']\n",
    "\n",
    "# Separate out ctrl and sample data\n",
    "data_14dpi_ctrl = data_14dpi_all[ data_14dpi_all['cond'].isin(ctrl_list) ]\n",
    "data_14dpi = data_14dpi_all[ data_14dpi_all['cond'].isin(cond_list) ]"
   ]
  },
  {
   "cell_type": "markdown",
   "metadata": {},
   "source": [
    "## Look at iMNs"
   ]
  },
  {
   "cell_type": "markdown",
   "metadata": {},
   "source": [
    "### Gate"
   ]
  },
  {
   "cell_type": "code",
   "execution_count": 13,
   "metadata": {},
   "outputs": [
    {
     "data": {
      "text/plain": [
       "<matplotlib.lines.Line2D at 0x168070a60>"
      ]
     },
     "execution_count": 13,
     "metadata": {},
     "output_type": "execute_result"
    },
    {
     "data": {
      "image/png": "[encoded data removed]",
      "text/plain": [
       "<Figure size 360x216 with 1 Axes>"
      ]
     },
     "metadata": {
      "needs_background": "light"
     },
     "output_type": "display_data"
    }
   ],
   "source": [
    "# Threshold for iMNs\n",
    "eGFP_H_thresh = 5*10**3\n",
    "\n",
    "fig, ax = plt.subplots(1, 1, figsize=(5, 3))\n",
    "\n",
    "# Plot eGFP-H\n",
    "x = 'eGFP-H'\n",
    "hue = 'cond'\n",
    "\n",
    "sns.kdeplot(ax=ax, data=data_14dpi_all.loc[data_14dpi_all.cond == 'mRuby2-med, HyperP'],\n",
    "    x=x, color='limegreen',\n",
    "    common_norm=False, log_scale=(True, False),\n",
    "    fill=True)\n",
    "\n",
    "# Plot neg ctrl\n",
    "sns.kdeplot(data=data_14dpi_ctrl[(data_14dpi_ctrl['cond'] == 'Ctrl-neg')], x=x, common_norm=False,\n",
    "            ax=ax, log_scale=(True, False), color='grey', fill=False, linestyle='--')\n",
    "ax.annotate('Neg', (0.23, 0.9), color='grey', xycoords='axes fraction', ha='center')\n",
    "\n",
    "# Title\n",
    "plt.suptitle('14 dpi')\n",
    "# Adjust limits\n",
    "eGFP_lim = (10, 1*10**6)\n",
    "for sub_ax in plt.gcf().get_axes():\n",
    "    sub_ax.set_xlim(eGFP_lim)\n",
    "\n",
    "sub_ax.axvline(eGFP_H_thresh, 0, 1, color='black')"
   ]
  },
  {
   "cell_type": "code",
   "execution_count": 14,
   "metadata": {},
   "outputs": [
    {
     "name": "stderr",
     "output_type": "stream",
     "text": [
      "/var/folders/2d/h4qyrjcd68x7g4p2qdv30s8h0000gn/T/ipykernel_80193/3079664238.py:2: SettingWithCopyWarning: \n",
      "A value is trying to be set on a copy of a slice from a DataFrame.\n",
      "Try using .loc[row_indexer,col_indexer] = value instead\n",
      "\n",
      "See the caveats in the documentation: https://pandas.pydata.org/pandas-docs/stable/user_guide/indexing.html#returning-a-view-versus-a-copy\n",
      "  data_14dpi['eGFP_cat'] = 'fib'\n",
      "/Users/natwang/Documents/GitHub/article-prolif-TF-levels/env/lib/python3.9/site-packages/pandas/core/indexing.py:1817: SettingWithCopyWarning: \n",
      "A value is trying to be set on a copy of a slice from a DataFrame.\n",
      "Try using .loc[row_indexer,col_indexer] = value instead\n",
      "\n",
      "See the caveats in the documentation: https://pandas.pydata.org/pandas-docs/stable/user_guide/indexing.html#returning-a-view-versus-a-copy\n",
      "  self._setitem_single_column(loc, value, pi)\n"
     ]
    }
   ],
   "source": [
    "# Categorize iMNs based on eGFP_thresh\n",
    "data_14dpi['eGFP_cat'] = 'fib'\n",
    "data_14dpi.loc[(data_14dpi['eGFP-H'] > eGFP_H_thresh), 'eGFP_cat'] = 'iMN'\n",
    "\n",
    "# Get total counts and percent of eGFP-H+\n",
    "well_group = ['cond', 'rep']\n",
    "count_df_reps = data_14dpi.groupby([*well_group, 'well', 'eGFP_cat'])[\n",
    "    'FSC-A'].count().unstack(fill_value=0).stack().rename('count') # Puts 0 if no eGFP-H+ rather than dropping row\n",
    "percent_df_reps = (count_df_reps*100/count_df_reps.groupby([*well_group, 'well']).transform('sum')).dropna().reset_index(name='percent')\n",
    "\n",
    "# Extract just the iMNs\n",
    "data_iMN_percent_reps = percent_df_reps.loc[(percent_df_reps['eGFP_cat'] == 'iMN')]\n",
    "\n",
    "# Get iMN yield per condition\n",
    "seedNum = 10**4 # Seeded 10k MEFs/96-wel\n",
    "# Divide by seeded cells to get yield, then extract just the iMNs\n",
    "data_iMN_yield_reps = (count_df_reps*100/seedNum).reset_index(name='yield')\n",
    "data_iMN_yield_reps = data_iMN_yield_reps.loc[data_iMN_yield_reps['eGFP_cat'] == 'iMN']\n",
    "\n",
    "# Reduce to bio reps\n",
    "data_iMN_percent = data_iMN_percent_reps.groupby(well_group)['percent'].mean().reset_index()\n",
    "data_iMN_yield = data_iMN_yield_reps.groupby(well_group)['yield'].mean().reset_index()"
   ]
  },
  {
   "attachments": {},
   "cell_type": "markdown",
   "metadata": {},
   "source": [
    "### Look at iMN purity"
   ]
  },
  {
   "cell_type": "code",
   "execution_count": 15,
   "metadata": {},
   "outputs": [],
   "source": [
    "data_iMN_percent_hyperPvnon_reps = data_iMN_percent_reps.copy()\n",
    "\n",
    "paired_map = {\n",
    "    'bulk': ('bulk', ''),\n",
    "    'mRuby2-low, nonHyperP': ('mRuby2-low', 'nonHyperP'),\n",
    "    'mRuby2-med, nonHyperP': ('mRuby2-med', 'nonHyperP'),\n",
    "    'mRuby2-high, nonHyperP':  ('mRuby2-high', 'nonHyperP'),\n",
    "    'mRuby2-low, HyperP': ('mRuby2-low', 'HyperP'),\n",
    "    'mRuby2-med, HyperP': ('mRuby2-med', 'HyperP'),\n",
    "    'mRuby2-high, HyperP':('mRuby2-high', 'HyperP'),}\n",
    "\n",
    "for index, row in data_iMN_percent_hyperPvnon_reps.iterrows():\n",
    "    data_iMN_percent_hyperPvnon_reps.loc[index, 'main_cond'] = paired_map[row.cond][0]\n",
    "    data_iMN_percent_hyperPvnon_reps.loc[index, 'hyperP_cat'] = paired_map[row.cond][1]\n",
    "\n",
    "data_iMN_percent_hyperPvnon = data_iMN_percent_hyperPvnon_reps.groupby([ 'rep', 'main_cond', 'hyperP_cat'])['percent'].mean().reset_index()"
   ]
  },
  {
   "cell_type": "code",
   "execution_count": 16,
   "metadata": {},
   "outputs": [
    {
     "name": "stderr",
     "output_type": "stream",
     "text": [
      "/Users/natwang/Documents/GitHub/article-prolif-TF-levels/env/lib/python3.9/site-packages/seaborn/utils.py:413: UserWarning: You have mixed positional and keyword arguments, some input may be discarded.\n",
      "  new_legend = legend_func(handles, labels, loc=loc, **props)\n",
      "/Users/natwang/Documents/GitHub/article-prolif-TF-levels/env/lib/python3.9/site-packages/statannotations/_Plotter.py:337: UserWarning: Invalid x-position found. Are the same parameters passed to seaborn and statannotations calls? or are there few data points?\n",
      "  warnings.warn(\n",
      "/Users/natwang/Documents/GitHub/article-prolif-TF-levels/env/lib/python3.9/site-packages/statannotations/_Plotter.py:337: UserWarning: Invalid x-position found. Are the same parameters passed to seaborn and statannotations calls? or are there few data points?\n",
      "  warnings.warn(\n",
      "/Users/natwang/Documents/GitHub/article-prolif-TF-levels/env/lib/python3.9/site-packages/statannotations/_Plotter.py:337: UserWarning: Invalid x-position found. Are the same parameters passed to seaborn and statannotations calls? or are there few data points?\n",
      "  warnings.warn(\n"
     ]
    },
    {
     "name": "stdout",
     "output_type": "stream",
     "text": [
      "p-value annotation legend:\n",
      "      ns: p <= 1.00e+00\n",
      "       *: 1.00e-02 < p <= 5.00e-02\n",
      "      **: 1.00e-03 < p <= 1.00e-02\n",
      "     ***: 1.00e-04 < p <= 1.00e-03\n",
      "    ****: p <= 1.00e-04\n",
      "\n",
      "mRuby2-med_HyperP vs. mRuby2-high_nonHyperP: t-test independent samples, P_val:7.321e-03 t=5.033e+00\n",
      "mRuby2-low_HyperP vs. mRuby2-high_nonHyperP: t-test independent samples, P_val:3.218e-01 t=1.184e+00\n"
     ]
    },
    {
     "data": {
      "image/png": "[encoded data removed]",
      "text/plain": [
       "<Figure size 288x180 with 1 Axes>"
      ]
     },
     "metadata": {
      "needs_background": "light"
     },
     "output_type": "display_data"
    }
   ],
   "source": [
    "# General plotting params\n",
    "x = 'main_cond'\n",
    "y = 'percent'\n",
    "hue = 'hyperP_cat'\n",
    "units = 'rep'\n",
    "marker_list = ['o', 's', '^', 'D', 'P', 'X'] \n",
    "\n",
    "order = ['mRuby2-low', 'mRuby2-med', 'mRuby2-high', 'bulk']\n",
    "hue_order = ['nonHyperP', 'HyperP']\n",
    "\n",
    "palette = {'HyperP': '#8b0288',\n",
    "           'nonHyperP': 'lightgray'}\n",
    "\n",
    "fig, ax = plt.subplots(1, 1, figsize=(4, 2.5))\n",
    "\n",
    "# Plot bar plot\n",
    "g = sns.barplot(\n",
    "    ax=ax, data=data_iMN_percent_hyperPvnon_reps,\n",
    "    x=x, y=y, units=units, hue=hue,\n",
    "    order=order, hue_order=hue_order,\n",
    "    palette=palette, alpha=0.5)\n",
    "\n",
    "# Plot reps\n",
    "for (i, rep) in enumerate(data_iMN_percent_hyperPvnon_reps.rep.unique()):\n",
    "    sns.stripplot(ax=ax, data=data_iMN_percent_hyperPvnon_reps[data_iMN_percent_hyperPvnon_reps.rep == rep],\n",
    "                x=x, y=y, order=order,\n",
    "                dodge=True, marker=marker_list[i],\n",
    "                hue=hue, hue_order=hue_order,\n",
    "                palette={'HyperP':'white', 'nonHyperP':'white'}, size=7,\n",
    "                edgecolor='black', linewidth=0.4,)\n",
    "    \n",
    "\n",
    "# Plot bar plot\n",
    "g = sns.barplot(\n",
    "    ax=ax, data=data_iMN_percent_hyperPvnon_reps,\n",
    "    x=x, y=y, units=units,\n",
    "    order=['', '', '', 'bulk'], \n",
    "    color='black', alpha=0.5)\n",
    "for (i, rep) in enumerate(data_iMN_percent_hyperPvnon_reps.rep.unique()):\n",
    "    sns.stripplot(ax=ax, data=data_iMN_percent_hyperPvnon_reps[data_iMN_percent_hyperPvnon_reps.rep == rep],\n",
    "                x=x, y=y, order=['', '', '', 'bulk'],\n",
    "                dodge=True, marker=marker_list[i],\n",
    "                color='white', size=7,\n",
    "                edgecolor='black', linewidth=0.4,)\n",
    "    \n",
    "\n",
    "# Format\n",
    "plt.title('14 dpi, post-sort')\n",
    "ax.set_xlabel('')\n",
    "ax.yaxis.set_label_text('(%) iMN\\nof all cells')\n",
    "ax.set_yticks(np.arange(0, 65, 20))\n",
    "ax.set_xlim((-0.7, 3.7))\n",
    "\n",
    "ax.set_xticklabels(['mRuby2\\nLow', 'mRuby2\\nMed', 'mRuby2\\nHigh', 'Bulk'])\n",
    "\n",
    "# Adjust legend\n",
    "lmap = {'HyperP':'HyperP', 'nonHyperP':'non-HyperP'}\n",
    "h,l = ax.get_legend_handles_labels()\n",
    "sns.move_legend(ax, handles=h[-len(hue_order):], labels=[lmap[i] for i in l[-len(hue_order):]],\n",
    "    title='', loc='upper left', bbox_to_anchor=(1,1), frameon=False)\n",
    "\n",
    "# Formatting\n",
    "for sub_ax in plt.gcf().get_axes():\n",
    "    # Add barplot labels\n",
    "    for i in sub_ax.containers:\n",
    "        bar_labels = sub_ax.bar_label(i, fmt='%0.0f', padding=25)\n",
    "        for label in bar_labels:\n",
    "            label.set_bbox(dict(facecolor='white', alpha=0.75, linewidth=0, pad=1))   \n",
    "\n",
    "\n",
    "# Pairs for stats comp\n",
    "pairs = [(('mRuby2-low', 'HyperP'), ('mRuby2-high', 'nonHyperP')), (('mRuby2-med', 'HyperP'), ('mRuby2-high', 'nonHyperP'))]\n",
    "# Add in stats for iMN yield\n",
    "annot = Annotator(ax=ax,\n",
    "    data=data_iMN_percent_hyperPvnon, pairs=pairs,\n",
    "    x=x, y=y,\n",
    "    hue=hue, order=order, hue_order=hue_order)\n",
    "annot.configure(test='t-test_ind', text_format='star', loc='inside', verbose=2)\n",
    "annot.apply_test().annotate(line_offset_to_group=0)\n",
    "\n",
    "# fig.tight_layout()  # Helps improve white spacing\n",
    "plt.savefig(figpath + 'iMN_percent.svg', bbox_inches='tight')"
   ]
  },
  {
   "attachments": {},
   "cell_type": "markdown",
   "metadata": {},
   "source": [
    "### Look at iMN yield"
   ]
  },
  {
   "cell_type": "code",
   "execution_count": 17,
   "metadata": {},
   "outputs": [],
   "source": [
    "data_iMN_yield_hyperPvnon_reps = data_iMN_yield_reps.copy()\n",
    "\n",
    "paired_map = {\n",
    "    'bulk': ('bulk', ''),\n",
    "    'mRuby2-low, nonHyperP': ('mRuby2-low', 'nonHyperP'),\n",
    "    'mRuby2-med, nonHyperP': ('mRuby2-med', 'nonHyperP'),\n",
    "    'mRuby2-high, nonHyperP':  ('mRuby2-high', 'nonHyperP'),\n",
    "    'mRuby2-low, HyperP': ('mRuby2-low', 'HyperP'),\n",
    "    'mRuby2-med, HyperP': ('mRuby2-med', 'HyperP'),\n",
    "    'mRuby2-high, HyperP':('mRuby2-high', 'HyperP'),}\n",
    "\n",
    "for index, row in data_iMN_yield_hyperPvnon_reps.iterrows():\n",
    "    data_iMN_yield_hyperPvnon_reps.loc[index, 'main_cond'] = paired_map[row.cond][0]\n",
    "    data_iMN_yield_hyperPvnon_reps.loc[index, 'hyperP_cat'] = paired_map[row.cond][1]\n",
    "\n",
    "    bulk_yield = data_iMN_yield_hyperPvnon_reps[(data_iMN_yield_hyperPvnon_reps.cond == 'bulk') & (data_iMN_yield_hyperPvnon_reps.rep == row.rep)]['yield'].mean()\n",
    "    data_iMN_yield_hyperPvnon_reps.loc[index, 'bulk yield'] = bulk_yield\n",
    "    data_iMN_yield_hyperPvnon_reps.loc[index, 'norm yield'] = row['yield']/bulk_yield*100\n",
    "\n",
    "\n",
    "data_iMN_yield_hyperPvnon = data_iMN_yield_hyperPvnon_reps.groupby([ 'rep', 'main_cond', 'hyperP_cat'])['yield'].mean().reset_index()\n"
   ]
  },
  {
   "cell_type": "code",
   "execution_count": 18,
   "metadata": {},
   "outputs": [
    {
     "name": "stderr",
     "output_type": "stream",
     "text": [
      "/Users/natwang/Documents/GitHub/article-prolif-TF-levels/env/lib/python3.9/site-packages/seaborn/utils.py:413: UserWarning: You have mixed positional and keyword arguments, some input may be discarded.\n",
      "  new_legend = legend_func(handles, labels, loc=loc, **props)\n",
      "/Users/natwang/Documents/GitHub/article-prolif-TF-levels/env/lib/python3.9/site-packages/statannotations/_Plotter.py:337: UserWarning: Invalid x-position found. Are the same parameters passed to seaborn and statannotations calls? or are there few data points?\n",
      "  warnings.warn(\n",
      "/Users/natwang/Documents/GitHub/article-prolif-TF-levels/env/lib/python3.9/site-packages/statannotations/_Plotter.py:337: UserWarning: Invalid x-position found. Are the same parameters passed to seaborn and statannotations calls? or are there few data points?\n",
      "  warnings.warn(\n",
      "/Users/natwang/Documents/GitHub/article-prolif-TF-levels/env/lib/python3.9/site-packages/statannotations/_Plotter.py:337: UserWarning: Invalid x-position found. Are the same parameters passed to seaborn and statannotations calls? or are there few data points?\n",
      "  warnings.warn(\n"
     ]
    },
    {
     "name": "stdout",
     "output_type": "stream",
     "text": [
      "p-value annotation legend:\n",
      "      ns: p <= 1.00e+00\n",
      "       *: 1.00e-02 < p <= 5.00e-02\n",
      "      **: 1.00e-03 < p <= 1.00e-02\n",
      "     ***: 1.00e-04 < p <= 1.00e-03\n",
      "    ****: p <= 1.00e-04\n",
      "\n",
      "mRuby2-med_HyperP vs. mRuby2-high_nonHyperP: t-test independent samples, P_val:9.691e-02 t=2.160e+00\n",
      "mRuby2-low_HyperP vs. mRuby2-high_nonHyperP: t-test independent samples, P_val:4.044e-01 t=9.682e-01\n"
     ]
    },
    {
     "data": {
      "image/png": "[encoded data removed]",
      "text/plain": [
       "<Figure size 288x180 with 1 Axes>"
      ]
     },
     "metadata": {
      "needs_background": "light"
     },
     "output_type": "display_data"
    }
   ],
   "source": [
    "# General plotting params\n",
    "x = 'main_cond'\n",
    "y = 'yield'\n",
    "hue = 'hyperP_cat'\n",
    "units = 'rep'\n",
    "\n",
    "order = ['mRuby2-low', 'mRuby2-med', 'mRuby2-high', 'bulk']\n",
    "hue_order = ['nonHyperP', 'HyperP']\n",
    "\n",
    "palette = {'HyperP': '#8b0288',\n",
    "           'nonHyperP': 'lightgray'}\n",
    "\n",
    "fig, ax = plt.subplots(1, 1, figsize=(4, 2.5))\n",
    "\n",
    "# Plot bar plot\n",
    "g = sns.barplot(\n",
    "    ax=ax, data=data_iMN_yield_hyperPvnon_reps,\n",
    "    x=x, y=y, units=units, hue=hue,\n",
    "    order=order, hue_order=hue_order,\n",
    "    palette=palette, alpha=0.5)\n",
    "\n",
    "# Plot reps\n",
    "for (i, rep) in enumerate(data_iMN_yield_hyperPvnon_reps.rep.unique()):\n",
    "    sns.stripplot(ax=ax, data=data_iMN_yield_hyperPvnon_reps[data_iMN_yield_hyperPvnon_reps.rep == rep],\n",
    "                x=x, y=y, order=order,\n",
    "                dodge=True, marker=marker_list[i],\n",
    "                hue=hue, hue_order=hue_order,\n",
    "                palette={'HyperP':'white', 'nonHyperP':'white'}, size=7,\n",
    "                edgecolor='black', linewidth=0.4,)\n",
    "    \n",
    "\n",
    "# Plot bulk plot\n",
    "g = sns.barplot(\n",
    "    ax=ax, data=data_iMN_yield_hyperPvnon_reps,\n",
    "    x=x, y=y, units=units,\n",
    "    order=['', '', '', 'bulk'], \n",
    "    color='black', alpha=0.5)\n",
    "for (i, rep) in enumerate(data_iMN_yield_hyperPvnon_reps.rep.unique()):\n",
    "    sns.stripplot(ax=ax, data=data_iMN_yield_hyperPvnon_reps[data_iMN_yield_hyperPvnon_reps.rep == rep],\n",
    "                x=x, y=y, order=['', '', '', 'bulk'],\n",
    "                dodge=True, marker=marker_list[i],\n",
    "                color='white', size=7,\n",
    "                edgecolor='black', linewidth=0.4,)\n",
    "    \n",
    "\n",
    "# Format\n",
    "plt.title('14 dpi, post-sort')\n",
    "ax.set_xlabel('')\n",
    "ax.yaxis.set_label_text('(%) iMN yield\\nper cell replated at 4 dpi')\n",
    "# ax.set_yticks(np.arange(0, 30, 10))\n",
    "ax.set_xlim((-0.7, 3.7))\n",
    "\n",
    "ax.set_xticklabels(['mRuby2\\nLow', 'mRuby2\\nMed', 'mRuby2\\nHigh', 'Bulk'])\n",
    "\n",
    "# Adjust legend\n",
    "lmap = {'HyperP':'HyperP', 'nonHyperP':'non-HyperP'}\n",
    "h,l = ax.get_legend_handles_labels()\n",
    "sns.move_legend(ax, handles=h[-len(hue_order):], labels=[lmap[i] for i in l[-len(hue_order):]],\n",
    "    title='', loc='upper left', bbox_to_anchor=(1,1), frameon=False)\n",
    "\n",
    "# Formatting\n",
    "for sub_ax in plt.gcf().get_axes():\n",
    "    # Add barplot labels\n",
    "    for i in sub_ax.containers:\n",
    "        bar_labels = sub_ax.bar_label(i, fmt='%0.0f', padding=0)\n",
    "        for label in bar_labels:\n",
    "            label.set_bbox(dict(facecolor='white', alpha=0.75, linewidth=0, pad=1))   \n",
    "\n",
    "# Pairs for stats comp\n",
    "pairs = [(('mRuby2-low', 'HyperP'), ('mRuby2-high', 'nonHyperP')), (('mRuby2-med', 'HyperP'), ('mRuby2-high', 'nonHyperP'))]\n",
    "# Add in stats for iMN yield\n",
    "annot = Annotator(ax=ax,\n",
    "    data=data_iMN_yield_hyperPvnon, pairs=pairs,\n",
    "    x=x, y=y,\n",
    "    hue=hue, order=order, hue_order=hue_order)\n",
    "annot.configure(test='t-test_ind', text_format='star', loc='inside', verbose=2)\n",
    "annot.apply_test().annotate(line_offset_to_group=0)\n",
    "\n",
    "plt.savefig(figpath + 'SI/iMN_yield.svg', bbox_inches='tight')"
   ]
  },
  {
   "cell_type": "markdown",
   "metadata": {},
   "source": [
    "## Look at mRuby2 levels"
   ]
  },
  {
   "cell_type": "code",
   "execution_count": 19,
   "metadata": {},
   "outputs": [],
   "source": [
    "ctrl_list = ['Ctrl-puro', 'Ctrl-mRuby2', 'Ctrl-eGFP', 'Ctrl-neg']\n",
    "cond_list = ['mRuby2-low, nonHyperP', 'mRuby2-med, nonHyperP',  'mRuby2-high, nonHyperP','mRuby2-low, HyperP','mRuby2-med, HyperP', 'mRuby2-high, HyperP', 'bulk']\n",
    "\n",
    "# Separate out ctrl and sample data\n",
    "data_14dpi_ctrl = data_14dpi_all[ data_14dpi_all['cond'].isin(ctrl_list) ]\n",
    "data_14dpi = data_14dpi_all[ data_14dpi_all['cond'].isin(cond_list) ]"
   ]
  },
  {
   "cell_type": "markdown",
   "metadata": {},
   "source": [
    "### kdeplot"
   ]
  },
  {
   "cell_type": "markdown",
   "metadata": {},
   "source": [
    "HyperP"
   ]
  },
  {
   "cell_type": "code",
   "execution_count": 20,
   "metadata": {},
   "outputs": [
    {
     "name": "stderr",
     "output_type": "stream",
     "text": [
      "/Users/natwang/Documents/GitHub/article-prolif-TF-levels/env/lib/python3.9/site-packages/seaborn/utils.py:413: UserWarning: You have mixed positional and keyword arguments, some input may be discarded.\n",
      "  new_legend = legend_func(handles, labels, loc=loc, **props)\n"
     ]
    },
    {
     "data": {
      "image/png": "[encoded data removed]",
      "text/plain": [
       "<Figure size 216x144 with 1 Axes>"
      ]
     },
     "metadata": {
      "needs_background": "light"
     },
     "output_type": "display_data"
    }
   ],
   "source": [
    "fig, ax = plt.subplots(1, 1, figsize=(3, 2))\n",
    "\n",
    "# Plot mRuby2\n",
    "x = 'mRuby2-A'\n",
    "hue = 'cond'\n",
    "hue_order = ['mRuby2-low, HyperP','mRuby2-med, HyperP', 'mRuby2-high, HyperP']\n",
    "\n",
    "# 'mRuby2-low, HyperP','mRuby2-med, HyperP', 'mRuby2-high, HyperP',\n",
    "sns.kdeplot(data=data_14dpi[(data_14dpi['cond'].isin(['mRuby2-low, HyperP','mRuby2-med, HyperP', 'mRuby2-high, HyperP']))],\n",
    "    ax=ax, x=x, hue=hue, hue_order=hue_order,\n",
    "    common_norm=False, log_scale=(True, False),\n",
    "    fill=True)\n",
    "palette = {'mRuby2-low':'tab:orange', 'mRuby2-med':'tab:red', 'mRuby2-high':'tab:blue'}\n",
    "\n",
    "\n",
    "# Plot neg ctrl\n",
    "sns.kdeplot(data=data_14dpi_ctrl[(data_14dpi_ctrl['cond'] == 'Ctrl-neg')], x=x, common_norm=False,log_scale=(True, False), color='grey', fill=False, linestyle='--')\n",
    "ax.annotate('Neg', (0.2, 0.5), color='grey', xycoords='axes fraction', ha='center')\n",
    "\n",
    "# Title\n",
    "plt.title('14 dpi, HyperP, post-sort')\n",
    "# Adjust limits\n",
    "mRuby2_lim = (40, 1*10**6)\n",
    "ax.set_xlim(mRuby2_lim)\n",
    "\n",
    "lmap = {'mRuby2-low, HyperP':'mRuby2-low',\n",
    "        'mRuby2-med, HyperP':'mRuby2-med',\n",
    "        'mRuby2-high, HyperP': 'mRuby2-high'}\n",
    "h,l = ax.get_legend_handles_labels()\n",
    "sns.move_legend(ax,handles=h, labels=l,\n",
    "    title='', loc='upper left', bbox_to_anchor=(1,1), frameon=False)\n",
    "\n",
    "plt.savefig(figpath + 'SI/14dpi_mRuby2_dist_hyperP.svg', bbox_inches='tight')"
   ]
  }
 ],
 "metadata": {
  "kernelspec": {
   "display_name": "env",
   "language": "python",
   "name": "python3"
  },
  "language_info": {
   "codemirror_mode": {
    "name": "ipython",
    "version": 3
   },
   "file_extension": ".py",
   "mimetype": "text/x-python",
   "name": "python",
   "nbconvert_exporter": "python",
   "pygments_lexer": "ipython3",
   "version": "3.9.6"
  },
  "metadata": {
   "interpreter": {
    "hash": "31f2aee4e71d21fbe5cf8b01ff0e069b9275f58929596ceb00d14d90e3e16cd6"
   }
  }
 },
 "nbformat": 4,
 "nbformat_minor": 2
}
