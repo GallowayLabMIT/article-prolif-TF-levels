{
 "cells": [
  {
   "attachments": {},
   "cell_type": "markdown",
   "metadata": {},
   "source": [
    "# Analysis of NIL v 6F\n",
    "\n",
    "## Load data\n",
    "Notes:\n",
    "\n",
    "1. Only singlets are included"
   ]
  },
  {
   "cell_type": "code",
   "execution_count": 1,
   "metadata": {},
   "outputs": [],
   "source": [
    "import pandas as pd\n",
    "import numpy as np\n",
    "from matplotlib import pyplot as plt\n",
    "from matplotlib.ticker import FuncFormatter\n",
    "from pathlib import Path\n",
    "import seaborn as sns\n",
    "from statannotations.Annotator import Annotator\n",
    "import rushd as rd\n",
    "from scipy.optimize import curve_fit\n",
    "\n",
    "# Required descriptors for annotate\n",
    "from statannotations.stats.StatTest import StatTest\n",
    "from scipy.stats import ttest_ind\n",
    "custom_long_name = 't-test for independent samples from scipy with greater 1-way (mean of the distribution underlying the first sample is greater than the mean of the distribution underlying the second sample)'\n",
    "custom_short_name = 't-test_ind_greater'\n",
    "custom_func = ttest_ind\n",
    "ttest_ind_greater = StatTest(custom_func, custom_long_name, custom_short_name, alternative='greater')\n",
    "\n",
    "custom_long_name = 't-test for independent samples from scipy with less 1-way (mean of the distribution underlying the first sample is less than the mean of the distribution underlying the second sample)'\n",
    "custom_short_name = 't-test_ind_less'\n",
    "custom_func = ttest_ind\n",
    "ttest_ind_less = StatTest(custom_func, custom_long_name, custom_short_name, alternative='less')"
   ]
  },
  {
   "attachments": {},
   "cell_type": "markdown",
   "metadata": {},
   "source": [
    "# Look at 4 dpi data\n",
    "\n",
    "## Load data"
   ]
  },
  {
   "cell_type": "code",
   "execution_count": null,
   "metadata": {},
   "outputs": [],
   "source": [
    "# Directories\n",
    "base_datadir = rd.datadir/'2023.08.23_HG_6FvNIL_1-4_4dpi'\n",
    "figpath = '../figures/fig3/'\n",
    "\n",
    "# Store all data in list of dfs which will be converted to df at end\n",
    "data_4dpi = list()\n",
    "\n",
    "# get all csvs for each dir\n",
    "dir_list = ['2023.08.23_HG_6FvNIL_1-2_4dpi', '2023.08.25_HG_6FvNIL_3-4_4dpi']\n",
    "for (j, dir_name) in enumerate(dir_list):\n",
    "    \n",
    "     # Load as df and note header is on 0th row\n",
    "    df = rd.flow.load_csv_with_metadata(\n",
    "        base_datadir/dir_name/'export_singlets', base_datadir/dir_name/'well_metadata.yaml')\n",
    "    data_4dpi.append(df)\n",
    "\n",
    "# Convert list of dfs into single df\n",
    "data_4dpi = pd.concat(data_4dpi, ignore_index=True)\n",
    "\n",
    "# Remove negative data\n",
    "data_4dpi = data_4dpi.loc[\n",
    "    (data_4dpi['FSC-A'] > 0) &\n",
    "    (data_4dpi['SSC-A'] > 0) &\n",
    "    (data_4dpi['eGFP-A'] > 0) &\n",
    "    (data_4dpi['CellTrace™ FarRed-A'] > 0)\n",
    "]\n",
    "# Drop na\n",
    "data_4dpi = data_4dpi.dropna()"
   ]
  },
  {
   "attachments": {},
   "cell_type": "markdown",
   "metadata": {},
   "source": [
    "## Categorize cells\n",
    "### Categorize cells based on CellTrace-FarRed"
   ]
  },
  {
   "cell_type": "code",
   "execution_count": 4,
   "metadata": {},
   "outputs": [],
   "source": [
    "# Get CTFR-low threshold for each rep s.t.\n",
    "# CTFR_low_thresh = 20% dimmest in ctrl\n",
    "rep_list = data_4dpi.rep.unique()\n",
    "CTFR_low_thresh_list = np.zeros(np.shape(rep_list))\n",
    "for (i, rep) in enumerate(rep_list):\n",
    "    CTFR_low_thresh_list[i] = np.percentile(\n",
    "        data_4dpi.loc[(data_4dpi['cond'] == 'Ctrl-puro') &\n",
    "            (data_4dpi['rep'] == rep)\n",
    "        ]['CellTrace™ FarRed-A'], 20)\n",
    "\n",
    "# Categorize based on CTFR for each rep\n",
    "data_4dpi['CTFR_cat'] = 'CTFR-low'\n",
    "for (i, rep) in enumerate(rep_list):\n",
    "    data_4dpi.loc[\n",
    "        (data_4dpi['rep'] == rep_list[i]) &\n",
    "        (data_4dpi['CellTrace™ FarRed-A'] > CTFR_low_thresh_list[i]),\n",
    "        'CTFR_cat'] = 'non-CTFR-low'\n",
    "\n",
    "# Calculate CTFR populations using these metrics\n",
    "well_group = ['rep', 'cond.DDRR_cat']\n",
    "count_df_reps = data_4dpi.groupby([*well_group, 'well', 'CTFR_cat'])[\n",
    "    'FSC-A'].count().unstack(fill_value=0).stack().rename('count') # Puts 0 if none rather than dropping row\n",
    "CTFR_percent_4dpi_reps = (count_df_reps*100/count_df_reps.groupby([*well_group, 'well']\n",
    "                           ).transform('sum')).reset_index(name='percent')\n",
    "\n",
    "# Extract just the hyperP\n",
    "CTFR_hyperP_count_4dpi_reps = (count_df_reps).reset_index(name='count')\n",
    "CTFR_hyperP_count_4dpi_reps = CTFR_hyperP_count_4dpi_reps.loc[(CTFR_hyperP_count_4dpi_reps['CTFR_cat'] == 'CTFR-low')]\n",
    "seedNum = 10**4 # Seeded 10k MEFs/96-well\n",
    "CTFR_hyperP_yield_4dpi_reps = (count_df_reps*100/seedNum).reset_index(name='yield')\n",
    "CTFR_hyperP_yield_4dpi_reps = CTFR_hyperP_yield_4dpi_reps.loc[(CTFR_hyperP_yield_4dpi_reps['CTFR_cat'] == 'CTFR-low')]\n",
    "\n",
    "CTFR_hyperP_percent_4dpi_reps = CTFR_percent_4dpi_reps.loc[(CTFR_percent_4dpi_reps['CTFR_cat'] == 'CTFR-low')]\n",
    "\n",
    "# Reduce to bio reps\n",
    "CTFR_hyperP_percent_4dpi = CTFR_hyperP_percent_4dpi_reps.groupby(well_group)['percent'].mean().reset_index()\n",
    "CTFR_hyperP_yield_4dpi = CTFR_hyperP_yield_4dpi_reps.groupby(well_group)['yield'].mean().reset_index()\n",
    "CTFR_hyperP_count_4dpi = CTFR_hyperP_count_4dpi_reps.groupby(well_group)['count'].mean().reset_index()"
   ]
  },
  {
   "cell_type": "code",
   "execution_count": 5,
   "metadata": {},
   "outputs": [
    {
     "data": {
      "image/png": "[encoded data removed]",
      "text/plain": [
       "<Figure size 360x216 with 1 Axes>"
      ]
     },
     "metadata": {
      "needs_background": "light"
     },
     "output_type": "display_data"
    }
   ],
   "source": [
    "fig, ax = plt.subplots(1, 1, figsize=(5, 3))\n",
    "\n",
    "# Threshold for iMNs\n",
    "rep = 1\n",
    "CTFR_low_thresh = CTFR_low_thresh_list[rep-1]\n",
    "\n",
    "# Plot eGFP-A\n",
    "x = 'CellTrace™ FarRed-A'\n",
    "sns.kdeplot(data=data_4dpi.loc[\n",
    "    (data_4dpi['cond.DDRR_cat'] == 'NIL.DDRR') & (data_4dpi['rep'] == rep)],\n",
    "    ax=ax, x=x,\n",
    "    common_norm=False, log_scale=(True, False),\n",
    "    fill=True)\n",
    "\n",
    "# Plot CTFR control\n",
    "sns.kdeplot(data=data_4dpi[(data_4dpi['cond'] == 'Ctrl-puro')], x=x, common_norm=False,\n",
    "            ax=ax, log_scale=(True, False), color='#8b0288', fill=False, linestyle='--')\n",
    "ax.annotate('Ctrl-puro', (0.8, 0.5), color='#8b0288' , xycoords='axes fraction', ha='center')\n",
    "\n",
    "# Plot neg ctrl\n",
    "sns.kdeplot(data=data_4dpi[(data_4dpi['cond'] == 'Ctrl-neg')], x=x, common_norm=False,\n",
    "            ax=ax, log_scale=(True, False), color='grey', fill=False, linestyle='--')\n",
    "ax.annotate('Neg', (0.22, 0.9), color='grey', xycoords='axes fraction', ha='center')\n",
    "\n",
    "# Plot threshold\n",
    "ax.axvline(CTFR_low_thresh, 0, 1, color='black')\n",
    "\n",
    "# Title\n",
    "plt.title('HG, 4 dpi, NIL + DDRR')\n",
    "# Adjust limits\n",
    "CTFR_lim = (1, 1*10**6)\n",
    "for sub_ax in plt.gcf().get_axes():\n",
    "    sub_ax.set_xlim(CTFR_lim)\n"
   ]
  },
  {
   "cell_type": "code",
   "execution_count": 6,
   "metadata": {},
   "outputs": [
    {
     "name": "stderr",
     "output_type": "stream",
     "text": [
      "/Users/natwang/Documents/GitHub/article-prolif-TF-levels/env/lib/python3.9/site-packages/seaborn/utils.py:413: UserWarning: You have mixed positional and keyword arguments, some input may be discarded.\n",
      "  new_legend = legend_func(handles, labels, loc=loc, **props)\n"
     ]
    },
    {
     "data": {
      "image/png": "[encoded data removed]",
      "text/plain": [
       "<Figure size 180x126 with 1 Axes>"
      ]
     },
     "metadata": {
      "needs_background": "light"
     },
     "output_type": "display_data"
    }
   ],
   "source": [
    "fig, ax = plt.subplots(1, 1, figsize=(2.5,1.75))\n",
    "\n",
    "# Threshold for hyperP\n",
    "rep = 1\n",
    "CTFR_low_thresh = CTFR_low_thresh_list[rep-1]\n",
    "\n",
    "# Plot CTFR\n",
    "x = 'CellTrace™ FarRed-A'\n",
    "cond_DDRR_list = [\n",
    "    'Ctrl-puro', '6F', '6F.DDRR', 'NIL', 'NIL.DDRR']\n",
    "palette = {\n",
    "    'Ctrl-puro': 'grey', '6F': 'coral', '6F.DDRR': 'teal',\n",
    "    'NIL': 'crimson', 'NIL.DDRR': 'dodgerblue'\n",
    "}\n",
    "\n",
    "sns.kdeplot(data=data_4dpi.loc[(data_4dpi['rep'] == rep)],\n",
    "    ax=ax, x=x, hue='cond.DDRR_cat', hue_order=cond_DDRR_list,\n",
    "    common_norm=False, log_scale=(True, False),\n",
    "    fill=True, palette=palette)\n",
    "\n",
    "# Plot neg ctrl\n",
    "sns.kdeplot(data=data_4dpi[(data_4dpi['cond'] == 'Ctrl-neg')], x=x, common_norm=False,\n",
    "            ax=ax, log_scale=(True, False), color='grey', fill=False, linestyle='--')\n",
    "ax.annotate('Neg', (0.26, 0.9), color='grey', xycoords='axes fraction', ha='center')\n",
    "\n",
    "# Plot threshold\n",
    "ax.axvline(CTFR_low_thresh, 0, 1, color='black')\n",
    "\n",
    "# Adjust the legend\n",
    "lmap = {\n",
    "    'Ctrl-puro': 'Ctrl-puro', '6F': '6F', '6F.DDRR': '6F\\n+DDRR',\n",
    "    'NIL': 'NIL', 'NIL.DDRR': 'NIL\\n+DDRR'\n",
    "}\n",
    "h,l = ax.get_legend_handles_labels()\n",
    "sns.move_legend(ax,\n",
    "    handles=h, labels=[lmap[i] for i in l[:]],\n",
    "    title='', loc='upper left', bbox_to_anchor=(1,1), frameon=False)\n",
    "\n",
    "# Title\n",
    "plt.title('4 dpi')\n",
    "# Adjust limits\n",
    "# ax.set_ylim((0, 1))\n",
    "CTFR_lim = (30, 1*10**6)\n",
    "for sub_ax in plt.gcf().get_axes():\n",
    "    sub_ax.set_xlim(CTFR_lim)\n",
    "\n",
    "# plt.savefig(figpath + '4dpi_CTFR_dist_small.svg', bbox_inches='tight')"
   ]
  },
  {
   "attachments": {},
   "cell_type": "markdown",
   "metadata": {},
   "source": [
    "## Look at HyperP at 4 dpi"
   ]
  },
  {
   "cell_type": "code",
   "execution_count": 9,
   "metadata": {},
   "outputs": [
    {
     "name": "stdout",
     "output_type": "stream",
     "text": [
      "p-value annotation legend:\n",
      "      ns: p <= 1.00e+00\n",
      "       *: 1.00e-02 < p <= 5.00e-02\n",
      "      **: 1.00e-03 < p <= 1.00e-02\n",
      "     ***: 1.00e-04 < p <= 1.00e-03\n",
      "    ****: p <= 1.00e-04\n",
      "\n",
      "NIL vs. NIL.DDRR: t-test for independent samples from scipy with less 1-way (mean of the distribution underlying the first sample is less than the mean of the distribution underlying the second sample) with Bonferroni correction, P_val:4.468e-05 Stat=-1.123e+01\n",
      "6F vs. 6F.DDRR: t-test for independent samples from scipy with less 1-way (mean of the distribution underlying the first sample is less than the mean of the distribution underlying the second sample) with Bonferroni correction, P_val:3.965e-04 Stat=-7.630e+00\n",
      "6F.DDRR vs. NIL.DDRR: t-test for independent samples from scipy with less 1-way (mean of the distribution underlying the first sample is less than the mean of the distribution underlying the second sample) with Bonferroni correction, P_val:2.544e-04 Stat=-8.266e+00\n",
      "p-value annotation legend:\n",
      "      ns: p <= 1.00e+00\n",
      "       *: 1.00e-02 < p <= 5.00e-02\n",
      "      **: 1.00e-03 < p <= 1.00e-02\n",
      "     ***: 1.00e-04 < p <= 1.00e-03\n",
      "    ****: p <= 1.00e-04\n",
      "\n",
      "Ctrl-puro vs. 6F: t-test for independent samples from scipy with greater 1-way (mean of the distribution underlying the first sample is greater than the mean of the distribution underlying the second sample) with Bonferroni correction, P_val:1.275e-04 Stat=8.699e+00\n",
      "Ctrl-puro vs. NIL: t-test for independent samples from scipy with greater 1-way (mean of the distribution underlying the first sample is greater than the mean of the distribution underlying the second sample) with Bonferroni correction, P_val:9.912e-01 Stat=1.155e-02\n"
     ]
    },
    {
     "data": {
      "image/png": "[encoded data removed]",
      "text/plain": [
       "<Figure size 216x180 with 1 Axes>"
      ]
     },
     "metadata": {
      "needs_background": "light"
     },
     "output_type": "display_data"
    }
   ],
   "source": [
    "# General plotting params\n",
    "x = 'cond.DDRR_cat'\n",
    "y = 'percent'\n",
    "cond_DDRR_list = [\n",
    "    'Ctrl-puro', '6F', '6F.DDRR', 'NIL', 'NIL.DDRR']\n",
    "\n",
    "palette = {\n",
    "    'Ctrl-puro': 'grey', '6F': 'coral', '6F.DDRR': 'teal',\n",
    "    'NIL': 'crimson', 'NIL.DDRR': 'dodgerblue'\n",
    "}\n",
    "\n",
    "\n",
    "marker_list = ['o', 's', '^', 'D']\n",
    "units = 'well'\n",
    "\n",
    "fig, ax = plt.subplots(1, 1, figsize=(3, 2.5))\n",
    "\n",
    "# Plot hyperP percent of all cells\n",
    "sns.barplot(ax=ax, data=CTFR_hyperP_percent_4dpi_reps,\n",
    "            x=x, y=y, order=cond_DDRR_list, units=units,\n",
    "            alpha=0.3, palette=palette)\n",
    "for (i, rep) in enumerate(CTFR_hyperP_percent_4dpi_reps.rep.unique()):\n",
    "    sns.stripplot(ax=ax, data=CTFR_hyperP_percent_4dpi_reps[CTFR_hyperP_percent_4dpi_reps.rep == rep],\n",
    "                x=x, y=y, order=cond_DDRR_list,\n",
    "                dodge=True, marker=marker_list[i],\n",
    "                color='white', size=5,\n",
    "                edgecolor='black', linewidth=0.4,)\n",
    "\n",
    "# Add in stats\n",
    "pairs = [\n",
    "    ('NIL', 'NIL.DDRR'),\n",
    "    ('6F', '6F.DDRR'),\n",
    "    ('NIL.DDRR', '6F.DDRR')\n",
    "]\n",
    "annot = Annotator(ax=ax, data=CTFR_hyperP_percent_4dpi, x=x, y=y,\n",
    "                  pairs=pairs, order=cond_DDRR_list)\n",
    "annot.configure(test=ttest_ind_less, comparisons_correction='Bonferroni', text_format='star', loc='inside', verbose=2)\n",
    "annot.apply_and_annotate()\n",
    "\n",
    "pairs = [    \n",
    "    ('Ctrl-puro', '6F'),\n",
    "    ('Ctrl-puro', 'NIL'),\n",
    "]\n",
    "annot = Annotator(ax=ax, data=CTFR_hyperP_percent_4dpi, x=x, y=y,\n",
    "                  pairs=pairs, order=cond_DDRR_list)\n",
    "annot.configure(test=ttest_ind_greater, comparisons_correction='Bonferroni', text_format='star', loc='inside', verbose=2)\n",
    "annot.apply_and_annotate()\n",
    "\n",
    "# Add barplot labels\n",
    "for sub_ax in plt.gcf().get_axes():\n",
    "    for i in sub_ax.containers:\n",
    "        bar_labels = sub_ax.bar_label(i, fmt='%0.0f', padding=-20)\n",
    "        for label in bar_labels:\n",
    "            label.set_bbox(dict(facecolor='white', alpha=0.75, linewidth=0, pad=1))    \n",
    "\n",
    "# Format\n",
    "# fig.tight_layout()  # Helps improve white spacing\n",
    "ax.set_title('4 dpi')\n",
    "ax.yaxis.set_label_text('(%) HyperP')\n",
    "ax.set_xticklabels(['Ctrl-puro', '6F', '6F\\n+ DDRR', 'NIL', 'NIL\\n+ DDRR'])\n",
    "ax.set_yticks(np.arange(0, 130, 20))\n",
    "\n",
    "# plt.savefig(figpath + 'SI/4dpi_hyperP_percent_label.svg', bbox_inches='tight')"
   ]
  },
  {
   "cell_type": "code",
   "execution_count": 10,
   "metadata": {},
   "outputs": [
    {
     "name": "stderr",
     "output_type": "stream",
     "text": [
      "/Users/natwang/Documents/GitHub/article-prolif-TF-levels/env/lib/python3.9/site-packages/statannotations/_Plotter.py:337: UserWarning: Invalid x-position found. Are the same parameters passed to seaborn and statannotations calls? or are there few data points?\n",
      "  warnings.warn(\n",
      "/Users/natwang/Documents/GitHub/article-prolif-TF-levels/env/lib/python3.9/site-packages/statannotations/_Plotter.py:337: UserWarning: Invalid x-position found. Are the same parameters passed to seaborn and statannotations calls? or are there few data points?\n",
      "  warnings.warn(\n",
      "/Users/natwang/Documents/GitHub/article-prolif-TF-levels/env/lib/python3.9/site-packages/statannotations/_Plotter.py:337: UserWarning: Invalid x-position found. Are the same parameters passed to seaborn and statannotations calls? or are there few data points?\n",
      "  warnings.warn(\n",
      "/Users/natwang/Documents/GitHub/article-prolif-TF-levels/env/lib/python3.9/site-packages/statannotations/_Plotter.py:337: UserWarning: Invalid x-position found. Are the same parameters passed to seaborn and statannotations calls? or are there few data points?\n",
      "  warnings.warn(\n",
      "/Users/natwang/Documents/GitHub/article-prolif-TF-levels/env/lib/python3.9/site-packages/statannotations/_Plotter.py:337: UserWarning: Invalid x-position found. Are the same parameters passed to seaborn and statannotations calls? or are there few data points?\n",
      "  warnings.warn(\n",
      "/Users/natwang/Documents/GitHub/article-prolif-TF-levels/env/lib/python3.9/site-packages/statannotations/_Plotter.py:337: UserWarning: Invalid x-position found. Are the same parameters passed to seaborn and statannotations calls? or are there few data points?\n",
      "  warnings.warn(\n"
     ]
    },
    {
     "name": "stdout",
     "output_type": "stream",
     "text": [
      "p-value annotation legend:\n",
      "      ns: p <= 1.00e+00\n",
      "       *: 1.00e-02 < p <= 5.00e-02\n",
      "      **: 1.00e-03 < p <= 1.00e-02\n",
      "     ***: 1.00e-04 < p <= 1.00e-03\n",
      "    ****: p <= 1.00e-04\n",
      "\n",
      "NIL vs. NIL.DDRR: t-test for independent samples from scipy with less 1-way (mean of the distribution underlying the first sample is less than the mean of the distribution underlying the second sample) with Bonferroni correction, P_val:1.669e-03 Stat=-5.838e+00\n",
      "6F vs. 6F.DDRR: t-test for independent samples from scipy with less 1-way (mean of the distribution underlying the first sample is less than the mean of the distribution underlying the second sample) with Bonferroni correction, P_val:3.503e-02 Stat=-3.021e+00\n",
      "6F.DDRR vs. NIL.DDRR: t-test for independent samples from scipy with less 1-way (mean of the distribution underlying the first sample is less than the mean of the distribution underlying the second sample) with Bonferroni correction, P_val:2.685e-03 Stat=-5.323e+00\n",
      "p-value annotation legend:\n",
      "      ns: p <= 1.00e+00\n",
      "       *: 1.00e-02 < p <= 5.00e-02\n",
      "      **: 1.00e-03 < p <= 1.00e-02\n",
      "     ***: 1.00e-04 < p <= 1.00e-03\n",
      "    ****: p <= 1.00e-04\n",
      "\n",
      "Ctrl-puro vs. 6F: t-test for independent samples from scipy with greater 1-way (mean of the distribution underlying the first sample is greater than the mean of the distribution underlying the second sample) with Bonferroni correction, P_val:2.208e-02 Stat=3.065e+00\n",
      "Ctrl-puro vs. NIL: t-test for independent samples from scipy with greater 1-way (mean of the distribution underlying the first sample is greater than the mean of the distribution underlying the second sample) with Bonferroni correction, P_val:1.000e+00 Stat=-1.704e-02\n"
     ]
    },
    {
     "data": {
      "image/png": "[encoded data removed]",
      "text/plain": [
       "<Figure size 216x180 with 1 Axes>"
      ]
     },
     "metadata": {
      "needs_background": "light"
     },
     "output_type": "display_data"
    }
   ],
   "source": [
    "# General plotting params\n",
    "x = 'cond.DDRR_cat'\n",
    "y = 'count'\n",
    "cond_DDRR_list = [\n",
    "    'Ctrl-puro', '6F', '6F.DDRR', 'NIL', 'NIL.DDRR']\n",
    "\n",
    "palette = {\n",
    "    'Ctrl-puro': 'grey', '6F': 'coral', '6F.DDRR': 'teal',\n",
    "    'NIL': 'crimson', 'NIL.DDRR': 'dodgerblue'\n",
    "}\n",
    "\n",
    "marker_list = ['o', 's', '^', 'D']\n",
    "units = 'well'\n",
    "\n",
    "fig, ax = plt.subplots(1, 1, figsize=(3, 2.5))\n",
    "\n",
    "# Plot hyperP yield\n",
    "sns.barplot(ax=ax, data=CTFR_hyperP_count_4dpi_reps,\n",
    "            x=x, y=y, order=cond_DDRR_list, units=units,\n",
    "            alpha=0.3, palette=palette)\n",
    "for (i, rep) in enumerate(CTFR_hyperP_count_4dpi_reps.rep.unique()):\n",
    "    sns.stripplot(ax=ax, data=CTFR_hyperP_count_4dpi_reps[CTFR_hyperP_count_4dpi_reps.rep == rep],\n",
    "                x=x, y=y, order=cond_DDRR_list,\n",
    "                dodge=True, marker=marker_list[i],\n",
    "                color='white', size=5,\n",
    "                edgecolor='black', linewidth=0.4,)\n",
    "\n",
    "# Add in stats\n",
    "pairs = [\n",
    "    ('NIL', 'NIL.DDRR'),\n",
    "    ('6F', '6F.DDRR'),\n",
    "    ('NIL.DDRR', '6F.DDRR')\n",
    "]\n",
    "annot = Annotator(ax=ax, data=CTFR_hyperP_count_4dpi, x=x, y=y,\n",
    "                  pairs=pairs, order=cond_DDRR_list)\n",
    "annot.configure(test=ttest_ind_less, comparisons_correction='Bonferroni', text_format='star', loc='inside', verbose=2)\n",
    "annot.apply_and_annotate()\n",
    "\n",
    "pairs = [    \n",
    "    ('Ctrl-puro', '6F'),\n",
    "    ('Ctrl-puro', 'NIL'),\n",
    "]\n",
    "annot = Annotator(ax=ax, data=CTFR_hyperP_count_4dpi, x=x, y=y,\n",
    "                  pairs=pairs, order=cond_DDRR_list)\n",
    "annot.configure(test=ttest_ind_greater, comparisons_correction='Bonferroni', text_format='star', loc='inside', verbose=2)\n",
    "annot.apply_and_annotate()\n",
    "\n",
    "# Add barplot labels\n",
    "for sub_ax in plt.gcf().get_axes():\n",
    "    for i in sub_ax.containers:\n",
    "        bar_labels = sub_ax.bar_label(i, fmt='%0.2g', padding=0)\n",
    "        # bar_labels = sub_ax.bar_label(i, fmt='%0.0f', padding=0)\n",
    "        for label in bar_labels:\n",
    "            label.set_bbox(dict(facecolor='white', alpha=0.75, linewidth=0, pad=1))    \n",
    "\n",
    "# Format\n",
    "# fig.tight_layout()  # Helps improve white spacing\n",
    "plt.ticklabel_format(style='sci', axis='y', scilimits=(0,0))\n",
    "ax.set_xticklabels(['Ctrl-puro', '6F', '6F\\n+ DDRR', 'NIL', 'NIL\\n+ DDRR'])\n",
    "ax.set_title('4 dpi')\n",
    "ax.yaxis.set_label_text('(#) Total hyperP')\n",
    "\n",
    "# plt.savefig(figpath + 'SI/4dpi_hyperP_count_label.svg', bbox_inches='tight')"
   ]
  },
  {
   "cell_type": "markdown",
   "metadata": {},
   "source": [
    "# Plot hyperP yield vs. hyperP percent"
   ]
  },
  {
   "cell_type": "code",
   "execution_count": 12,
   "metadata": {},
   "outputs": [],
   "source": [
    "# Integrate hyperP % and hyperP yield % at 4 dpi into single df\n",
    "# CTFR_hyperP_percent_4dpi_reps\n",
    "percent_4dpi_reps = CTFR_hyperP_percent_4dpi_reps.rename(columns={\"percent\":\"hyperP_percent\"}, copy=True)\n",
    "percent_4dpi_reps.loc[:,'hyperP_count'] = 0\n",
    "for index, row in percent_4dpi_reps.iterrows():\n",
    "\n",
    "    hyperP_count = CTFR_hyperP_count_4dpi_reps.loc[\n",
    "        (CTFR_hyperP_count_4dpi_reps['rep']==row.rep) &\n",
    "        (CTFR_hyperP_count_4dpi_reps['well']==row.well) &\n",
    "        (CTFR_hyperP_count_4dpi_reps['cond.DDRR_cat']==row['cond.DDRR_cat'])\n",
    "        ]['count']\n",
    "    percent_4dpi_reps.loc[index, 'hyperP_count'] = float(hyperP_count)\n",
    "\n",
    "# Delete ctrl data\n",
    "cond_list = ['Ctrl-puro', '6F', 'NIL',\n",
    "             '6F.DDRR', 'NIL.DDRR']\n",
    "percent_4dpi_reps = percent_4dpi_reps[ percent_4dpi_reps['cond.DDRR_cat'].isin(cond_list) ]\n",
    "\n",
    "# Calc mean and SEM for each cond\n",
    "grouping = ['cond.DDRR_cat', 'rep']\n",
    "percent_4dpi_mean = percent_4dpi_reps.groupby(grouping).mean().reset_index()\n",
    "percent_4dpi_SEM = percent_4dpi_reps.groupby(grouping).sem().reset_index()"
   ]
  },
  {
   "cell_type": "code",
   "execution_count": 13,
   "metadata": {},
   "outputs": [
    {
     "data": {
      "text/plain": [
       "array([ 8.72066543e+03,  2.09962299e-02, -1.15542351e+04])"
      ]
     },
     "metadata": {},
     "output_type": "display_data"
    },
    {
     "name": "stdout",
     "output_type": "stream",
     "text": [
      "0.9126245930223926\n"
     ]
    }
   ],
   "source": [
    "xdata = percent_4dpi_mean['hyperP_percent']\n",
    "ydata = percent_4dpi_mean['hyperP_count']\n",
    "\n",
    "# # If positive\n",
    "# def model(x, y_init, k):\n",
    "#     return y_init*np.exp((k*x))\n",
    "# popt, pcov = curve_fit(\n",
    "#     model, xdata=xdata, ydata=ydata,\n",
    "#     p0=[1, .05], bounds=([0, 0], [100, 1]))\n",
    "\n",
    "# display(popt)\n",
    "\n",
    "# If negative\n",
    "def model(x, y_init, k, C):\n",
    "    return y_init*np.exp((k*x)) + C\n",
    "popt, pcov = curve_fit(\n",
    "    model, xdata=xdata, ydata=ydata,\n",
    "    p0=[1, .05, 0], bounds=([0, 0, -10**5], [10**5, 1**2, 10**5]))\n",
    "\n",
    "display(popt)\n",
    "\n",
    "y_pred = model(xdata, *popt)\n",
    "y_avg = np.mean(ydata)\n",
    "SSres = np.sum((ydata-y_pred)**2)\n",
    "SStot = np.sum((ydata-y_avg)**2)\n",
    "Rsq = 1 - SSres/SStot\n",
    "\n",
    "print(Rsq)"
   ]
  },
  {
   "cell_type": "code",
   "execution_count": 14,
   "metadata": {},
   "outputs": [],
   "source": [
    "nboot = 10**4\n",
    "# params_all = np.zeros((nboot, len(popt)))\n",
    "# x_all = np.zeros((nboot, len(xdata)))\n",
    "# y_all = np.zeros((nboot, len(xdata)))\n",
    "params_all = np.zeros((len(popt), nboot))\n",
    "x_all = np.zeros((len(xdata), nboot))\n",
    "y_all = np.zeros((len(xdata), nboot))\n",
    "\n",
    "########## ACTUAL ##########\n",
    "x_CI = np.linspace(0, 100)\n",
    "y_CI_all = np.zeros((len(x_CI), nboot))\n",
    "############################\n",
    "\n",
    "for i in np.arange(nboot):\n",
    "\n",
    "    # Sample with replacement and fit\n",
    "    data =  percent_4dpi_mean.sample(n=len(xdata), replace=True)\n",
    "    x = 'hyperP_percent'\n",
    "    y = 'hyperP_count'\n",
    "    \n",
    "    try:\n",
    "        popt_i, pcov_i = curve_fit(\n",
    "        model, xdata=data[x], ydata=data[y],\n",
    "        p0=[10**3, .05, -10**3], bounds=([0, 0, -10**5], [10**6, 1**2, 10**5]))\n",
    "    except RuntimeError:\n",
    "       print(\"Couldn't solve, increasing max number of function evals\")\n",
    "       popt_i, pcov_i = curve_fit(\n",
    "        model, xdata=data[x], ydata=data[y],\n",
    "        p0=[10**3, .05, -10**3], bounds=([0, 0, -10**5], [10**6, 1**2, 10**5]), maxfev=5000)\n",
    "    \n",
    "    # # Store data\n",
    "    # params_all[i, :] = popt_i\n",
    "    # x_all[i, :] = data[x]\n",
    "    # y_all[i, :] = model(data[x], *popt_i)\n",
    "    params_all[:, i] = popt_i\n",
    "    x_all[:, i] = data[x]\n",
    "    y_all[:, i] = model(data[x], *popt_i)\n",
    "    ########## ACTUAL ##########\n",
    "    y_CI_all[:, i] = model(x_CI, *popt_i)\n",
    "    ########## ACTUAL ##########\n",
    "\n",
    "\n",
    "# Extract parameters and values\n",
    "y_init = params_all[0::3].flatten()\n",
    "k = params_all[1::3].flatten()\n",
    "C = params_all[2::3].flatten()\n",
    "\n",
    "x_all = np.reshape(x_all, (x_all.size, 1))\n",
    "y_all = np.reshape(y_all, (y_all.size, 1))\n",
    "# Convert (x, y) data to df\n",
    "bootstrap_all = pd.DataFrame(np.hstack((x_all, y_all)), columns=['x', 'y'])"
   ]
  },
  {
   "cell_type": "code",
   "execution_count": 16,
   "metadata": {},
   "outputs": [],
   "source": [
    "# Make 95% CI\n",
    "CI = 95\n",
    "# do it\n",
    "y_lb = np.zeros(len(x_CI))\n",
    "y_ub = np.zeros(len(x_CI))\n",
    "for (i, x_curr) in enumerate(x_CI):\n",
    "    y_curr =  y_CI_all[i]\n",
    "    y_lb[i] = np.percentile(y_curr, (100-CI)/2)\n",
    "    y_ub[i] = np.percentile(y_curr, 100-(100-CI)/2)\n"
   ]
  },
  {
   "cell_type": "code",
   "execution_count": 18,
   "metadata": {},
   "outputs": [
    {
     "data": {
      "image/png": "[encoded data removed]",
      "text/plain": [
       "<Figure size 432x432 with 1 Axes>"
      ]
     },
     "metadata": {
      "needs_background": "light"
     },
     "output_type": "display_data"
    }
   ],
   "source": [
    "# Plotting params\n",
    "x = 'hyperP_percent'\n",
    "y = 'hyperP_count'\n",
    "style = 'rep'\n",
    "hue = 'cond.DDRR_cat'\n",
    "hue_order = ['Ctrl-puro', '6F', 'NIL',\n",
    "             '6F.DDRR', 'NIL.DDRR']\n",
    "palette = {\n",
    "    'Ctrl-puro': 'grey', '6F': 'coral', '6F.DDRR': 'teal',\n",
    "    'NIL': 'crimson', 'NIL.DDRR': 'dodgerblue'\n",
    "}\n",
    "\n",
    "# Plot\n",
    "fig, ax = plt.subplots(1, 1, figsize=(6, 6))\n",
    "\n",
    "ax.errorbar(x=percent_4dpi_mean[x], y=percent_4dpi_mean[y],\n",
    "            xerr=percent_4dpi_SEM[x], yerr=percent_4dpi_SEM[y],\n",
    "            color='None', ecolor='black', elinewidth=0.5)\n",
    "            \n",
    "f = sns.scatterplot(ax=ax,\n",
    "    data=percent_4dpi_mean,\n",
    "    x=x, y=y, hue=hue, hue_order=hue_order,\n",
    "    style=style,\n",
    "    s=300, palette=palette)\n",
    "\n",
    "# Plot model fit\n",
    "x_line = np.linspace(0, 100, 10**4)\n",
    "y_line = model(x_line, *popt)\n",
    "plt.plot(x_line, y_line, c='grey', ls='--')\n",
    "ax.fill_between(x_CI, y_lb, y_ub, color='grey', alpha=0.1) # CI\n",
    "plt.annotate('R$^2$ = {:.2f}'.format(Rsq), (0.2, 0.9), color='grey', xycoords='axes fraction', ha='center')\n",
    "\n",
    "\n",
    "sns.move_legend(ax, title='', loc='upper left', bbox_to_anchor=(1,1), frameon=False)\n",
    "ax.set_xticks(np.arange(0, 110, 20))\n",
    "ax.set_yticks(np.arange(0, 4*10**4+1, 10**4))\n",
    "ax.set_ylim((-10**3, 4*10**4))\n",
    "plt.ticklabel_format(style='sci', axis='y', scilimits=(0,0))\n",
    "ax.xaxis.set_label_text('(%) HyperP\\nat 4 dpi')\n",
    "ax.yaxis.set_label_text('(#) Total hyperP\\nat 4 dpi')\n",
    "plt.title('4 dpi')\n",
    "k_formatter = FuncFormatter(lambda x, _: f'{x:.0f}' if abs(x) < 1000 else f'{x/1000:.0f}k')\n",
    "ax.yaxis.set_major_formatter(k_formatter)\n",
    "# plt.savefig(figpath + '4dpi_hyperP_countvpercent_large.svg', bbox_inches='tight')"
   ]
  }
 ],
 "metadata": {
  "kernelspec": {
   "display_name": "env",
   "language": "python",
   "name": "python3"
  },
  "language_info": {
   "codemirror_mode": {
    "name": "ipython",
    "version": 3
   },
   "file_extension": ".py",
   "mimetype": "text/x-python",
   "name": "python",
   "nbconvert_exporter": "python",
   "pygments_lexer": "ipython3",
   "version": "3.9.6"
  },
  "metadata": {
   "interpreter": {
    "hash": "31f2aee4e71d21fbe5cf8b01ff0e069b9275f58929596ceb00d14d90e3e16cd6"
   }
  }
 },
 "nbformat": 4,
 "nbformat_minor": 2
}
