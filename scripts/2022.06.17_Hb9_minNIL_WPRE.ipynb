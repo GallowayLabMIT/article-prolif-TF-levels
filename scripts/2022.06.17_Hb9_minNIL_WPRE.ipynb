{
 "cells": [
  {
   "cell_type": "markdown",
   "metadata": {},
   "source": [
    "# Analysis of minimal TF's needed for reprogramming\n",
    "\n",
    "## Load data\n",
    "Notes:\n",
    "\n",
    "1. Only singlets are included\n",
    "2. RIDD infected"
   ]
  },
  {
   "cell_type": "code",
   "execution_count": 1,
   "metadata": {},
   "outputs": [],
   "source": [
    "import pandas as pd\n",
    "import numpy as np\n",
    "import matplotlib\n",
    "from matplotlib import pyplot as plt\n",
    "from pathlib import Path\n",
    "import re\n",
    "import seaborn as sns\n",
    "import rushd as rd\n",
    "from statannotations.Annotator import Annotator\n",
    "\n",
    "no_yellow_viridis = matplotlib.colors.ListedColormap(matplotlib.cm.get_cmap('viridis', 256)(np.linspace(0,0.85,256)))\n",
    "\n",
    "# Required descriptors for annotate\n",
    "from scipy.stats import ttest_ind\n",
    "from statannotations.stats.StatTest import StatTest\n",
    "custom_long_name = 't-test for independent samples from scipy with greater 1-way (mean of the distribution underlying the first sample is greater than the mean of the distribution underlying the second sample)'\n",
    "custom_short_name = 't-test_ind_greater'\n",
    "custom_func = ttest_ind\n",
    "ttest_ind_greater = StatTest(custom_func, custom_long_name, custom_short_name, alternative='greater')\n",
    "\n",
    "custom_long_name = 't-test for independent samples from scipy with less 1-way (mean of the distribution underlying the first sample is less than the mean of the distribution underlying the second sample)'\n",
    "custom_short_name = 't-test_ind_less'\n",
    "custom_func = ttest_ind\n",
    "ttest_ind_less = StatTest(custom_func, custom_long_name, custom_short_name, alternative='less')"
   ]
  },
  {
   "cell_type": "code",
   "execution_count": 3,
   "metadata": {},
   "outputs": [],
   "source": [
    "# Where to save figures\n",
    "figpath = '../figures/fig3/'\n",
    "\n",
    "# List of data folder names\n",
    "dir_list = ['2022.06.13_Hb9_minNIL_14dpi_1',\n",
    "            '2022.06.13_Hb9_minNIL_14dpi_2',\n",
    "            '2022.06.15_Hb9_minNIL_14dpi_3',\n",
    "            '2022.06.15_Hb9_minNIL_14dpi_4']\n",
    "\n",
    "# Store all data in list of dfs which will be converted to df at end\n",
    "data = list()\n",
    "\n",
    "# get all csvs for each dir\n",
    "for (j, dir_name) in enumerate(dir_list):\n",
    "\n",
    "    path = rd.datadir / '2022.06.13_Hb9_minNIL_14dpi_1-4' / dir_name / 'export_singlets'\n",
    "    files = Path(path).glob('*.csv') \n",
    "\n",
    "    for i, file in enumerate(files):\n",
    "        \n",
    "        # Extract metadata from csv title\n",
    "        match = re.search(\n",
    "            'export_(?P<cond>.+).(?P<sampleNum>\\d)_Singlets.csv', file.name)\n",
    "        # If csv is a ctrl file it won't match so ignore\n",
    "        if match is None:\n",
    "            continue\n",
    "\n",
    "        cond = match.group('cond')\n",
    "        sampleNum = match.group('sampleNum')\n",
    "\n",
    "        # Rename HIP conditions\n",
    "        HIPW_cat = False\n",
    "        if cond[-4:] == 'HIPW':\n",
    "           HIPW_cat = True\n",
    "           cond = cond[:-5] # cut out .HIPW\n",
    "        \n",
    "        # Load as df and note header is on 0th row\n",
    "        df = pd.read_csv(file, header=0)\n",
    "\n",
    "        # Update columns in df with metadata from file name\n",
    "        df['cond'] = cond\n",
    "        if HIPW_cat:\n",
    "            df['cond.DDRR'] = cond + \".DDRR\"\n",
    "        else:\n",
    "            df['cond.DDRR'] = cond \n",
    "        df['replicate'] = j\n",
    "        df['sampleNum'] = sampleNum\n",
    "        df['HIPW_cat'] = HIPW_cat\n",
    "\n",
    "        data.append(df)\n",
    "\n",
    "# Convert list of dfs into single df\n",
    "data = pd.concat(data, ignore_index=True)\n",
    "\n",
    "# Eliminate any negative fluor\n",
    "data = data.loc[\n",
    "    (data['eGFP-A'] > 0) &\n",
    "    (data['FSC-A'] > 0) &\n",
    "    (data['SSC-A'] > 0)]"
   ]
  },
  {
   "cell_type": "markdown",
   "metadata": {},
   "source": [
    "# Look at eGFP for NILDDRR to determine eGFP gate"
   ]
  },
  {
   "cell_type": "code",
   "execution_count": 4,
   "metadata": {},
   "outputs": [
    {
     "data": {
      "image/png": "[encoded data removed]",
      "text/plain": [
       "<Figure size 360x216 with 1 Axes>"
      ]
     },
     "metadata": {
      "needs_background": "light"
     },
     "output_type": "display_data"
    }
   ],
   "source": [
    "# Threshold for iMNs\n",
    "eGFP_H_thresh = 5*10**3\n",
    "\n",
    "# Downsample to 100,000 cells from NIL + HIP\n",
    "# small_data = data.groupby(['cond']).sample(n=10**4, random_state=1)\n",
    "small_data = data[(data['cond'] == 'N+I+L') & (\n",
    "    data['HIPW_cat'] == True)].sample(n=10**5, random_state=1)\n",
    "\n",
    "\n",
    "fig, ax = plt.subplots(1, 1, figsize=(5, 3))\n",
    "\n",
    "# Plot eGFP-H\n",
    "x = 'eGFP-H'\n",
    "sns.kdeplot(ax=ax, data=small_data, x=x,\n",
    "            log_scale=(True, False), fill=True, color='limegreen',\n",
    "            common_norm=True)\n",
    "ax.axvline(eGFP_H_thresh, 0, 1, color='black')\n",
    "\n",
    "# Plot neg ctrl\n",
    "sns.kdeplot(data=data[(data['cond'] == 'L') & (\n",
    "    data['HIPW_cat'] == False)].sample(n=100, random_state=1), x=x, common_norm=True,\n",
    "            ax=ax, log_scale=(True, False), color='grey', fill=False, linestyle='--')\n",
    "ax.annotate('Neg\\n(Lhx3 only)', (0.3, 0.8), color='grey', xycoords='axes fraction', ha='center')\n",
    "\n",
    "\n",
    "# Title\n",
    "plt.suptitle('N+I+L + DDRR, 14 dpi')\n",
    "# Adjust limits\n",
    "eGFP_lim = (10, 10**6)\n",
    "for sub_ax in plt.gcf().get_axes():\n",
    "    sub_ax.set_xlim(eGFP_lim)\n",
    "\n",
    "# plt.savefig(figpath + 'SI/eGFP-H_dist.svg', bbox_inches='tight')"
   ]
  },
  {
   "cell_type": "markdown",
   "metadata": {},
   "source": [
    "Looks like eGFP = 5x10^3 is good"
   ]
  },
  {
   "cell_type": "markdown",
   "metadata": {},
   "source": [
    "## Look at results for eGFP-H"
   ]
  },
  {
   "cell_type": "markdown",
   "metadata": {},
   "source": [
    "### Categorize cells based on eGFP-H"
   ]
  },
  {
   "cell_type": "code",
   "execution_count": 5,
   "metadata": {},
   "outputs": [],
   "source": [
    "# Categorize iMNs based on eGFP_thresh\n",
    "data['eGFP_cat'] = 'fib'\n",
    "data.loc[(data['eGFP-H'] > eGFP_H_thresh), 'eGFP_cat'] = 'iMN'\n",
    "\n",
    "# Get total counts and percent of eGFP-A+\n",
    "well_group = ['cond', 'HIPW_cat', 'replicate']\n",
    "count_df_reps = data.groupby([*well_group, 'sampleNum', 'eGFP_cat'])[\n",
    "    'FSC-A'].count().unstack(fill_value=0).stack().rename('count') # Puts 0 if no eGFP-H+ rather than dropping row\n",
    "percent_df_reps = (count_df_reps*100/count_df_reps.groupby([*well_group, 'sampleNum']).transform('sum')).dropna().reset_index(name='percent')\n",
    "\n",
    "# Extract just the iMNs\n",
    "data_iMN_percent_reps = percent_df_reps.loc[(percent_df_reps['eGFP_cat'] == 'iMN')]\n",
    "\n",
    "# Get iMN yield per condition\n",
    "seedNum = 10**4 # Seeded 10k MEFs/96-wel\n",
    "# Divide by seeded cells to get yield, then extract just the iMNs\n",
    "data_iMN_yield_reps = (count_df_reps*100/seedNum).reset_index(name='yield')\n",
    "data_iMN_yield_reps = data_iMN_yield_reps.loc[data_iMN_yield_reps['eGFP_cat'] == 'iMN']\n",
    "\n",
    "# Reduce to bio reps\n",
    "data_iMN_percent = data_iMN_percent_reps.groupby(well_group)['percent'].mean().reset_index()\n",
    "data_iMN_yield = data_iMN_yield_reps.groupby(well_group)['yield'].mean().reset_index()"
   ]
  },
  {
   "cell_type": "markdown",
   "metadata": {},
   "source": [
    "# Just look at 6F and N+I+L"
   ]
  },
  {
   "cell_type": "code",
   "execution_count": 7,
   "metadata": {},
   "outputs": [
    {
     "name": "stdout",
     "output_type": "stream",
     "text": [
      "p-value annotation legend:\n",
      "      ns: p <= 1.00e+00\n",
      "       *: 1.00e-02 < p <= 5.00e-02\n",
      "      **: 1.00e-03 < p <= 1.00e-02\n",
      "     ***: 1.00e-04 < p <= 1.00e-03\n",
      "    ****: p <= 1.00e-04\n",
      "\n",
      "NIL_False vs. NIL_True: t-test for independent samples from scipy with less 1-way (mean of the distribution underlying the first sample is less than the mean of the distribution underlying the second sample) with Bonferroni correction, P_val:8.464e-04 Stat=-6.638e+00\n",
      "6F_False vs. 6F_True: t-test for independent samples from scipy with less 1-way (mean of the distribution underlying the first sample is less than the mean of the distribution underlying the second sample) with Bonferroni correction, P_val:2.141e-03 Stat=-5.564e+00\n",
      "6F_True vs. NIL_True: t-test for independent samples from scipy with less 1-way (mean of the distribution underlying the first sample is less than the mean of the distribution underlying the second sample) with Bonferroni correction, P_val:9.682e-04 Stat=-6.473e+00\n",
      "p-value annotation legend:\n",
      "      ns: p <= 1.00e+00\n",
      "       *: 1.00e-02 < p <= 5.00e-02\n",
      "      **: 1.00e-03 < p <= 1.00e-02\n",
      "     ***: 1.00e-04 < p <= 1.00e-03\n",
      "    ****: p <= 1.00e-04\n",
      "\n",
      "NIL_False vs. NIL_True: t-test for independent samples from scipy with less 1-way (mean of the distribution underlying the first sample is less than the mean of the distribution underlying the second sample) with Bonferroni correction, P_val:1.097e-03 Stat=-6.323e+00\n",
      "6F_False vs. 6F_True: t-test for independent samples from scipy with less 1-way (mean of the distribution underlying the first sample is less than the mean of the distribution underlying the second sample) with Bonferroni correction, P_val:1.225e-04 Stat=-9.413e+00\n",
      "6F_True vs. NIL_True: t-test for independent samples from scipy with less 1-way (mean of the distribution underlying the first sample is less than the mean of the distribution underlying the second sample) with Bonferroni correction, P_val:4.979e-03 Stat=-4.702e+00\n"
     ]
    },
    {
     "name": "stderr",
     "output_type": "stream",
     "text": [
      "/Users/natwang/Documents/GitHub/article-prolif-TF-levels/env/lib/python3.9/site-packages/seaborn/utils.py:413: UserWarning: You have mixed positional and keyword arguments, some input may be discarded.\n",
      "  new_legend = legend_func(handles, labels, loc=loc, **props)\n"
     ]
    },
    {
     "data": {
      "image/png": "[encoded data removed]",
      "text/plain": [
       "<Figure size 144x432 with 2 Axes>"
      ]
     },
     "metadata": {
      "needs_background": "light"
     },
     "output_type": "display_data"
    }
   ],
   "source": [
    "# General plotting params\n",
    "x = 'cond'\n",
    "hue = 'HIPW_cat'\n",
    "hue_order = [False, True]\n",
    "units = 'sampleNum'\n",
    "colormap = {hue_order[0]: 'black', hue_order[1]: 'limegreen'}\n",
    "cond_list = ['6F', 'NIL']\n",
    "marker_list = ['o', 's', '^', 'D']\n",
    "\n",
    "# Pairs for stats comp\n",
    "pairs = [(('6F', False), ('6F', True)),\n",
    "         (('NIL', False), ('NIL', True)),\n",
    "         (('6F', True), ('NIL', True))]\n",
    "\n",
    "fig, ax = plt.subplots(2, 1, figsize=(2, 6))\n",
    "\n",
    "# Plot iMN yield per MEF plated\n",
    "y = 'yield'\n",
    "sns.barplot(ax=ax[0], data=data_iMN_yield_reps,\n",
    "            x=x, y=y, hue=hue, hue_order=hue_order, order=cond_list,\n",
    "            units=units,\n",
    "            palette=colormap, alpha=0.3)\n",
    "for (i, rep) in enumerate(data_iMN_yield_reps.replicate.unique()):\n",
    "    sns.stripplot(\n",
    "        ax=ax[0], data=data_iMN_yield_reps[data_iMN_yield_reps.replicate == rep],\n",
    "        x=x, y=y, hue=hue, hue_order=hue_order, order=cond_list,\n",
    "        dodge=True, marker=marker_list[i],\n",
    "        palette={True: 'white', False: 'white'}, size=5,\n",
    "        edgecolor='black', linewidth=0.4,)\n",
    "\n",
    "# Add in stats for iMN yield\n",
    "annot = Annotator(ax=ax[0], data=data_iMN_yield, x=x, y=y, pairs=pairs, order=cond_list, hue=hue, hue_order=hue_order)\n",
    "annot.configure(test=ttest_ind_less, comparisons_correction='Bonferroni', text_format='star', loc='inside', verbose=2)\n",
    "annot.apply_and_annotate()\n",
    "\n",
    "# Plot iMN percent of all cells\n",
    "y = 'percent'\n",
    "sns.barplot(ax=ax[1], data=data_iMN_percent_reps,\n",
    "            x=x, y=y, hue=hue, hue_order=hue_order, order=cond_list,\n",
    "            units=units,\n",
    "            palette=colormap, alpha=0.3)\n",
    "for (i, rep) in enumerate(data_iMN_percent_reps.replicate.unique()):\n",
    "    sns.stripplot(\n",
    "        ax=ax[1], data=data_iMN_percent_reps[data_iMN_percent_reps.replicate == rep],\n",
    "        x=x, y=y, hue=hue, hue_order=hue_order, order=cond_list,\n",
    "        dodge=True, marker=marker_list[i],\n",
    "        palette={True: 'white', False: 'white'}, size=5,\n",
    "        edgecolor='black', linewidth=0.4,)\n",
    "                \n",
    "# Add in stats for iMN percent\n",
    "annot = Annotator(ax=ax[1], data=data_iMN_percent, x=x, y=y, pairs=pairs, order=cond_list, hue=hue, hue_order=hue_order)\n",
    "annot.configure(test=ttest_ind_less, comparisons_correction='Bonferroni', text_format='star', loc='inside', verbose=2)\n",
    "annot.apply_and_annotate()\n",
    "\n",
    "# Format\n",
    "fig.suptitle('14 dpi')\n",
    "ax[0].yaxis.set_label_text('(%) iMN yield\\nper MEF plated')\n",
    "ax[0].set_yticks(np.arange(0, 200, 50))\n",
    "ax[1].get_legend().remove()\n",
    "ax[1].yaxis.set_label_text('(%) iMN\\nof all cells')\n",
    "ax[1].set_yticks(np.arange(0, 30, 5))\n",
    "\n",
    "# Adjust labels\n",
    "lmap = {'True':'+ DDRR', 'False':'\\u2013 DDRR'}\n",
    "h,l = ax[0].get_legend_handles_labels()\n",
    "sns.move_legend(ax[0], handles=h[-len(hue_order):],labels=[lmap[i] for i in l[-len(hue_order):]],\n",
    "    title='Condition', loc='upper left', bbox_to_anchor=(1,1), frameon=False)\n",
    "\n",
    "# Add barplot labels\n",
    "for sub_ax in plt.gcf().get_axes():\n",
    "    for i in sub_ax.containers:\n",
    "        bar_labels = sub_ax.bar_label(i, fmt='%0.1f', padding=10)\n",
    "        for label in bar_labels:\n",
    "            label.set_bbox(dict(facecolor='white', alpha=0.75, linewidth=0, pad=1))\n",
    "\n",
    "# plt.savefig(figpath + 'iMN_yield_minNIL_6F_v_NIL_small.svg', bbox_inches='tight')"
   ]
  },
  {
   "cell_type": "markdown",
   "metadata": {},
   "source": [
    "## How does it look with and without DDRR"
   ]
  },
  {
   "cell_type": "code",
   "execution_count": 9,
   "metadata": {},
   "outputs": [
    {
     "name": "stderr",
     "output_type": "stream",
     "text": [
      "/Users/natwang/Documents/GitHub/article-prolif-TF-levels/env/lib/python3.9/site-packages/statannotations/_Plotter.py:337: UserWarning: Invalid x-position found. Are the same parameters passed to seaborn and statannotations calls? or are there few data points?\n",
      "  warnings.warn(\n",
      "/Users/natwang/Documents/GitHub/article-prolif-TF-levels/env/lib/python3.9/site-packages/statannotations/_Plotter.py:337: UserWarning: Invalid x-position found. Are the same parameters passed to seaborn and statannotations calls? or are there few data points?\n",
      "  warnings.warn(\n",
      "/Users/natwang/Documents/GitHub/article-prolif-TF-levels/env/lib/python3.9/site-packages/statannotations/_Plotter.py:337: UserWarning: Invalid x-position found. Are the same parameters passed to seaborn and statannotations calls? or are there few data points?\n",
      "  warnings.warn(\n"
     ]
    },
    {
     "name": "stdout",
     "output_type": "stream",
     "text": [
      "p-value annotation legend:\n",
      "      ns: p <= 1.00e+00\n",
      "       *: 1.00e-02 < p <= 5.00e-02\n",
      "      **: 1.00e-03 < p <= 1.00e-02\n",
      "     ***: 1.00e-04 < p <= 1.00e-03\n",
      "    ****: p <= 1.00e-04\n",
      "\n",
      "N+I vs. N+I+L: t-test for independent samples from scipy with less 1-way (mean of the distribution underlying the first sample is less than the mean of the distribution underlying the second sample) with Bonferroni correction, P_val:1.622e-02 Stat=-3.642e+00\n",
      "N+L vs. N+I+L: t-test for independent samples from scipy with less 1-way (mean of the distribution underlying the first sample is less than the mean of the distribution underlying the second sample) with Bonferroni correction, P_val:1.670e-02 Stat=-3.617e+00\n",
      "I+L vs. N+I+L: t-test for independent samples from scipy with less 1-way (mean of the distribution underlying the first sample is less than the mean of the distribution underlying the second sample) with Bonferroni correction, P_val:1.627e-02 Stat=-3.639e+00\n"
     ]
    },
    {
     "name": "stderr",
     "output_type": "stream",
     "text": [
      "/Users/natwang/Documents/GitHub/article-prolif-TF-levels/env/lib/python3.9/site-packages/statannotations/_Plotter.py:337: UserWarning: Invalid x-position found. Are the same parameters passed to seaborn and statannotations calls? or are there few data points?\n",
      "  warnings.warn(\n",
      "/Users/natwang/Documents/GitHub/article-prolif-TF-levels/env/lib/python3.9/site-packages/statannotations/_Plotter.py:337: UserWarning: Invalid x-position found. Are the same parameters passed to seaborn and statannotations calls? or are there few data points?\n",
      "  warnings.warn(\n"
     ]
    },
    {
     "name": "stdout",
     "output_type": "stream",
     "text": [
      "p-value annotation legend:\n",
      "      ns: p <= 1.00e+00\n",
      "       *: 1.00e-02 < p <= 5.00e-02\n",
      "      **: 1.00e-03 < p <= 1.00e-02\n",
      "     ***: 1.00e-04 < p <= 1.00e-03\n",
      "    ****: p <= 1.00e-04\n",
      "\n",
      "N+I vs. N+I+L: t-test for independent samples from scipy with less 1-way (mean of the distribution underlying the first sample is less than the mean of the distribution underlying the second sample) with Bonferroni correction, P_val:2.443e-05 Stat=-1.247e+01\n",
      "N+L vs. N+I+L: t-test for independent samples from scipy with less 1-way (mean of the distribution underlying the first sample is less than the mean of the distribution underlying the second sample) with Bonferroni correction, P_val:2.532e-05 Stat=-1.239e+01\n",
      "I+L vs. N+I+L: t-test for independent samples from scipy with less 1-way (mean of the distribution underlying the first sample is less than the mean of the distribution underlying the second sample) with Bonferroni correction, P_val:2.454e-05 Stat=-1.246e+01\n"
     ]
    },
    {
     "data": {
      "image/png": "[encoded data removed]",
      "text/plain": [
       "<Figure size 288x396 with 2 Axes>"
      ]
     },
     "metadata": {
      "needs_background": "light"
     },
     "output_type": "display_data"
    }
   ],
   "source": [
    "# General plotting params\n",
    "x = 'cond'\n",
    "color = 'black'\n",
    "cond_list = ['L',  'I', 'N', 'I+L', 'N+L', 'N+I', 'N+I+L']\n",
    "units = 'sampleNum'\n",
    "marker_list = ['o', 's', '^', 'D']\n",
    "HIPW_cat = False\n",
    "\n",
    "df_labels = pd.DataFrame(\n",
    "    {\n",
    "        \"cond\": ['L', 'I', 'N', 'I+L', 'N+L', 'N+I', 'N+I+L'],\n",
    "        \"Ngn2\": [\"—\", \"—\", \"+\",   \"—\",   \"+\",   \"+\",     \"+\"],\n",
    "        \"Isl1\": [\"—\", \"+\", \"—\",   \"+\",   \"—\",   \"+\",     \"+\"],\n",
    "        \"Lhx3\": [\"+\", \"—\", \"—\",   \"+\",   \"+\",   \"—\",     \"+\"],\n",
    "    }\n",
    ")\n",
    "\n",
    "# Pairs for stats comp\n",
    "pairs = [('N+I+L', 'N+I'),\n",
    "         ('N+I+L', 'N+L'),\n",
    "         ('N+I+L', 'I+L')]\n",
    "\n",
    "fig, ax = plt.subplots(2, 1, figsize=(4, 5.5))\n",
    "\n",
    "# Plot iMN yield per MEF plated\n",
    "y = 'yield'\n",
    "sns.barplot(ax=ax[0], data=data_iMN_yield_reps[data_iMN_yield_reps.HIPW_cat == HIPW_cat],\n",
    "    x=x, y=y, order=cond_list, units=units,\n",
    "    color=color, alpha=0.3)\n",
    "for (i, rep) in enumerate(data_iMN_yield_reps.replicate.unique()):\n",
    "    sns.stripplot(ax=ax[0], data=data_iMN_yield_reps[(data_iMN_yield_reps.HIPW_cat == HIPW_cat) & (data_iMN_yield_reps.replicate == rep)],\n",
    "        x=x, y=y, order=cond_list,\n",
    "        dodge=True, marker=marker_list[i],\n",
    "        color='white', size=5, \n",
    "        linewidth=0.4, edgecolor='black')\n",
    "annot = Annotator(\n",
    "    ax=ax[0], data=data_iMN_yield[data_iMN_yield.HIPW_cat == HIPW_cat],\n",
    "    x=x, y=y, pairs=pairs, order=cond_list)\n",
    "annot.configure(test=ttest_ind_less, comparisons_correction='Bonferroni', text_format='star', loc='inside', verbose=2)\n",
    "annot.apply_and_annotate()\n",
    "\n",
    "# Plot iMN percent of all cells\n",
    "y = 'percent'\n",
    "sns.barplot(ax=ax[1], data=data_iMN_percent_reps[data_iMN_percent_reps.HIPW_cat == HIPW_cat],\n",
    "    x=x, y=y, order=cond_list, units=units,\n",
    "    color=color, alpha=0.3)\n",
    "for (i, rep) in enumerate(data_iMN_percent_reps.replicate.unique()):\n",
    "    sns.stripplot(\n",
    "        ax=ax[1], data=data_iMN_percent_reps[(data_iMN_percent_reps.HIPW_cat == HIPW_cat) & (data_iMN_percent_reps.replicate == rep)],\n",
    "        x=x, y=y, order=cond_list,\n",
    "        dodge=True, marker=marker_list[i],\n",
    "        color='white', size=5,\n",
    "        edgecolor='black', linewidth=0.4,)\n",
    "\n",
    "# Add in stats for iMN yield\n",
    "annot = Annotator(\n",
    "    ax=ax[1], data=data_iMN_percent[data_iMN_percent.HIPW_cat == HIPW_cat],\n",
    "    x=x, y=y, pairs=pairs, order=cond_list)\n",
    "annot.configure(test=ttest_ind_less, comparisons_correction='Bonferroni', text_format='star', loc='inside', verbose=2)\n",
    "annot.apply_and_annotate()\n",
    "\n",
    "# Format\n",
    "fig.suptitle('14 dpi, — DDRR')\n",
    "ax[0].yaxis.set_label_text('(%) iMN yield\\nper MEF plated')\n",
    "ax[1].yaxis.set_label_text('(%) iMN\\nof all cells')\n",
    "ax[0].xaxis.set_label_text(\"\")\n",
    "ax[0].set_xticklabels(\"\")\n",
    "rd.plot.generate_xticklabels(df_labels=df_labels, ax_col=x,\n",
    "    label_cols=[\"Ngn2\", \"Isl1\", \"Lhx3\"], ax=ax[1])  \n",
    "\n",
    "# Add barplot labels\n",
    "for sub_ax in plt.gcf().get_axes():\n",
    "    for i in sub_ax.containers:\n",
    "        bar_labels = sub_ax.bar_label(i, fmt='%0.0f', padding=10)\n",
    "        for label in bar_labels:\n",
    "            label.set_bbox(dict(facecolor='white', alpha=0.75, linewidth=0, pad=1))    \n",
    "\n",
    "# plt.savefig(figpath + 'SI/iMN_yield-percent_noDDRR.svg', bbox_inches='tight')"
   ]
  },
  {
   "cell_type": "code",
   "execution_count": null,
   "metadata": {},
   "outputs": [
    {
     "name": "stderr",
     "output_type": "stream",
     "text": [
      "/Users/natwang/Documents/GitHub/article-prolif-TF-levels/env/lib/python3.9/site-packages/statannotations/_Plotter.py:337: UserWarning: Invalid x-position found. Are the same parameters passed to seaborn and statannotations calls? or are there few data points?\n",
      "  warnings.warn(\n",
      "/Users/natwang/Documents/GitHub/article-prolif-TF-levels/env/lib/python3.9/site-packages/statannotations/_Plotter.py:337: UserWarning: Invalid x-position found. Are the same parameters passed to seaborn and statannotations calls? or are there few data points?\n",
      "  warnings.warn(\n",
      "/Users/natwang/Documents/GitHub/article-prolif-TF-levels/env/lib/python3.9/site-packages/statannotations/_Plotter.py:337: UserWarning: Invalid x-position found. Are the same parameters passed to seaborn and statannotations calls? or are there few data points?\n",
      "  warnings.warn(\n",
      "/Users/natwang/Documents/GitHub/article-prolif-TF-levels/env/lib/python3.9/site-packages/statannotations/_Plotter.py:337: UserWarning: Invalid x-position found. Are the same parameters passed to seaborn and statannotations calls? or are there few data points?\n",
      "  warnings.warn(\n"
     ]
    },
    {
     "name": "stdout",
     "output_type": "stream",
     "text": [
      "p-value annotation legend:\n",
      "      ns: p <= 1.00e+00\n",
      "       *: 1.00e-02 < p <= 5.00e-02\n",
      "      **: 1.00e-03 < p <= 1.00e-02\n",
      "     ***: 1.00e-04 < p <= 1.00e-03\n",
      "    ****: p <= 1.00e-04\n",
      "\n",
      "N+I vs. N+I+L: t-test for independent samples from scipy with less 1-way (mean of the distribution underlying the first sample is less than the mean of the distribution underlying the second sample) with Bonferroni correction, P_val:1.622e-02 Stat=-3.642e+00\n",
      "N+L vs. N+I+L: t-test for independent samples from scipy with less 1-way (mean of the distribution underlying the first sample is less than the mean of the distribution underlying the second sample) with Bonferroni correction, P_val:1.670e-02 Stat=-3.617e+00\n",
      "I+L vs. N+I+L: t-test for independent samples from scipy with less 1-way (mean of the distribution underlying the first sample is less than the mean of the distribution underlying the second sample) with Bonferroni correction, P_val:1.627e-02 Stat=-3.639e+00\n"
     ]
    },
    {
     "name": "stderr",
     "output_type": "stream",
     "text": [
      "/Users/natwang/Documents/GitHub/article-prolif-TF-levels/env/lib/python3.9/site-packages/statannotations/_Plotter.py:337: UserWarning: Invalid x-position found. Are the same parameters passed to seaborn and statannotations calls? or are there few data points?\n",
      "  warnings.warn(\n",
      "/Users/natwang/Documents/GitHub/article-prolif-TF-levels/env/lib/python3.9/site-packages/statannotations/_Plotter.py:337: UserWarning: Invalid x-position found. Are the same parameters passed to seaborn and statannotations calls? or are there few data points?\n",
      "  warnings.warn(\n",
      "/Users/natwang/Documents/GitHub/article-prolif-TF-levels/env/lib/python3.9/site-packages/statannotations/_Plotter.py:337: UserWarning: Invalid x-position found. Are the same parameters passed to seaborn and statannotations calls? or are there few data points?\n",
      "  warnings.warn(\n",
      "/Users/natwang/Documents/GitHub/article-prolif-TF-levels/env/lib/python3.9/site-packages/statannotations/_Plotter.py:337: UserWarning: Invalid x-position found. Are the same parameters passed to seaborn and statannotations calls? or are there few data points?\n",
      "  warnings.warn(\n"
     ]
    },
    {
     "name": "stdout",
     "output_type": "stream",
     "text": [
      "p-value annotation legend:\n",
      "      ns: p <= 1.00e+00\n",
      "       *: 1.00e-02 < p <= 5.00e-02\n",
      "      **: 1.00e-03 < p <= 1.00e-02\n",
      "     ***: 1.00e-04 < p <= 1.00e-03\n",
      "    ****: p <= 1.00e-04\n",
      "\n",
      "N+I vs. N+I+L: t-test for independent samples from scipy with less 1-way (mean of the distribution underlying the first sample is less than the mean of the distribution underlying the second sample) with Bonferroni correction, P_val:4.547e-04 Stat=-7.442e+00\n",
      "N+L vs. N+I+L: t-test for independent samples from scipy with less 1-way (mean of the distribution underlying the first sample is less than the mean of the distribution underlying the second sample) with Bonferroni correction, P_val:2.157e-04 Stat=-8.514e+00\n",
      "I+L vs. N+I+L: t-test for independent samples from scipy with less 1-way (mean of the distribution underlying the first sample is less than the mean of the distribution underlying the second sample) with Bonferroni correction, P_val:1.371e-04 Stat=-9.228e+00\n"
     ]
    },
    {
     "data": {
      "image/png": "[encoded data removed]",
      "text/plain": [
       "<Figure size 288x396 with 2 Axes>"
      ]
     },
     "metadata": {
      "needs_background": "light"
     },
     "output_type": "display_data"
    }
   ],
   "source": [
    "# General plotting params\n",
    "x = 'cond'\n",
    "color = 'limegreen'\n",
    "cond_list = ['L',  'I', 'N', 'I+L', 'N+L', 'N+I', 'N+I+L']\n",
    "units = 'sampleNum'\n",
    "marker_list = ['o', 's', '^', 'D']\n",
    "HIPW_cat = True\n",
    "\n",
    "df_labels = pd.DataFrame(\n",
    "    {\n",
    "        \"cond\": ['L', 'I', 'N', 'I+L', 'N+L', 'N+I', 'N+I+L'],\n",
    "        \"Ngn2\": [\"—\", \"—\", \"+\",   \"—\",   \"+\",   \"+\",     \"+\"],\n",
    "        \"Isl1\": [\"—\", \"+\", \"—\",   \"+\",   \"—\",   \"+\",     \"+\"],\n",
    "        \"Lhx3\": [\"+\", \"—\", \"—\",   \"+\",   \"+\",   \"—\",     \"+\"],\n",
    "    }\n",
    ")\n",
    "\n",
    "# Pairs for stats comp\n",
    "pairs = [('N+I+L', 'N+I'),\n",
    "         ('N+I+L', 'N+L'),\n",
    "         ('N+I+L', 'I+L')]\n",
    "\n",
    "fig, ax = plt.subplots(2, 1, figsize=(4, 5.5))\n",
    "\n",
    "# Plot iMN yield per MEF plated\n",
    "y = 'yield'\n",
    "sns.barplot(ax=ax[0], data=data_iMN_yield_reps[data_iMN_yield_reps.HIPW_cat == HIPW_cat],\n",
    "    x=x, y=y, order=cond_list, units=units,\n",
    "    color=color, alpha=0.3)\n",
    "for (i, rep) in enumerate(data_iMN_yield_reps.replicate.unique()):\n",
    "    sns.stripplot(ax=ax[0], data=data_iMN_yield_reps[(data_iMN_yield_reps.HIPW_cat == HIPW_cat) & (data_iMN_yield_reps.replicate == rep)],\n",
    "        x=x, y=y, order=cond_list,\n",
    "        dodge=True, marker=marker_list[i],\n",
    "        color='white', size=5, \n",
    "        linewidth=0.4, edgecolor='black')\n",
    "annot = Annotator(\n",
    "    ax=ax[0], data=data_iMN_yield[data_iMN_yield.HIPW_cat == False],\n",
    "    x=x, y=y, pairs=pairs, order=cond_list)\n",
    "annot.configure(test=ttest_ind_less, comparisons_correction='Bonferroni', text_format='star', loc='inside', verbose=2)\n",
    "annot.apply_and_annotate()\n",
    "\n",
    "# Plot iMN percent of all cells\n",
    "y = 'percent'\n",
    "sns.barplot(ax=ax[1], data=data_iMN_percent_reps[data_iMN_percent_reps.HIPW_cat == HIPW_cat],\n",
    "    x=x, y=y, order=cond_list, units=units,\n",
    "    color=color, alpha=0.3)\n",
    "for (i, rep) in enumerate(data_iMN_percent_reps.replicate.unique()):\n",
    "    sns.stripplot(\n",
    "        ax=ax[1], data=data_iMN_percent_reps[(data_iMN_percent_reps.HIPW_cat == HIPW_cat) & (data_iMN_percent_reps.replicate == rep)],\n",
    "        x=x, y=y, order=cond_list,\n",
    "        dodge=True, marker=marker_list[i],\n",
    "        color='white', size=5,\n",
    "        edgecolor='black', linewidth=0.4,)\n",
    "\n",
    "# Add in stats for iMN yield\n",
    "annot = Annotator(\n",
    "    ax=ax[1], data=data_iMN_percent[data_iMN_percent.HIPW_cat == HIPW_cat],\n",
    "    x=x, y=y, pairs=pairs, order=cond_list)\n",
    "annot.configure(test=ttest_ind_less, comparisons_correction='Bonferroni', text_format='star', loc='inside', verbose=2)\n",
    "annot.apply_and_annotate()\n",
    "\n",
    "# Format\n",
    "fig.suptitle('14 dpi, + DDRR')\n",
    "ax[0].yaxis.set_label_text('(%) iMN yield\\nper MEF plated')\n",
    "ax[1].yaxis.set_label_text('(%) iMN\\nof all cells')\n",
    "ax[0].xaxis.set_label_text(\"\")\n",
    "ax[0].set_xticklabels(\"\")\n",
    "rd.plot.generate_xticklabels(df_labels=df_labels, ax_col=x,\n",
    "    label_cols=[\"Ngn2\", \"Isl1\", \"Lhx3\"], ax=ax[1])  \n",
    "\n",
    "# Add barplot labels\n",
    "for sub_ax in plt.gcf().get_axes():\n",
    "    for i in sub_ax.containers:\n",
    "        bar_labels = sub_ax.bar_label(i, fmt='%0.0f', padding=10)\n",
    "        for label in bar_labels:\n",
    "            label.set_bbox(dict(facecolor='white', alpha=0.75, linewidth=0, pad=1))    \n",
    "\n",
    "# Misc plotting stuff\n",
    "# plt.savefig(figpath + 'SI/iMN_yield-percent_DDRR.svg', bbox_inches='tight')"
   ]
  }
 ],
 "metadata": {
  "kernelspec": {
   "display_name": "env",
   "language": "python",
   "name": "python3"
  },
  "language_info": {
   "codemirror_mode": {
    "name": "ipython",
    "version": 3
   },
   "file_extension": ".py",
   "mimetype": "text/x-python",
   "name": "python",
   "nbconvert_exporter": "python",
   "pygments_lexer": "ipython3",
   "version": "3.9.6"
  },
  "metadata": {
   "interpreter": {
    "hash": "31f2aee4e71d21fbe5cf8b01ff0e069b9275f58929596ceb00d14d90e3e16cd6"
   }
  }
 },
 "nbformat": 4,
 "nbformat_minor": 2
}
